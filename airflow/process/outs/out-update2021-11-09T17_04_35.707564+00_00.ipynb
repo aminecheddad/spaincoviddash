{
 "cells": [
  {
   "cell_type": "code",
   "execution_count": 1,
   "id": "ae481a75",
   "metadata": {
    "execution": {
     "iopub.execute_input": "2021-11-09T17:05:26.327131Z",
     "iopub.status.busy": "2021-11-09T17:05:26.324699Z",
     "iopub.status.idle": "2021-11-09T17:05:26.392517Z",
     "shell.execute_reply": "2021-11-09T17:05:26.405809Z"
    },
    "jupyter": {
     "source_hidden": true
    },
    "papermill": {
     "duration": 0.19218,
     "end_time": "2021-11-09T17:05:26.407954",
     "exception": false,
     "start_time": "2021-11-09T17:05:26.215774",
     "status": "completed"
    },
    "tags": [
     "injected-parameters"
    ]
   },
   "outputs": [],
   "source": [
    "# Parameters\n",
    "msgs = \"Ran from Airflow at 2021-11-09T17:04:35.707564+00:00!\"\n"
   ]
  },
  {
   "cell_type": "code",
   "execution_count": 2,
   "id": "25cb325f",
   "metadata": {
    "execution": {
     "iopub.execute_input": "2021-11-09T17:05:26.591599Z",
     "iopub.status.busy": "2021-11-09T17:05:26.588474Z",
     "iopub.status.idle": "2021-11-09T17:05:27.795522Z",
     "shell.execute_reply": "2021-11-09T17:05:27.797679Z"
    },
    "jupyter": {
     "source_hidden": true
    },
    "papermill": {
     "duration": 1.304303,
     "end_time": "2021-11-09T17:05:27.798287",
     "exception": false,
     "start_time": "2021-11-09T17:05:26.493984",
     "status": "completed"
    },
    "tags": []
   },
   "outputs": [],
   "source": [
    "import requests\n",
    "import time\n",
    "import datetime\n",
    "import pandas as pd\n",
    "import io\n",
    "import mysql.connector\n",
    "from sqlalchemy import exc\n",
    "import sqlalchemy\n",
    "pd.options.display.max_rows = 150"
   ]
  },
  {
   "cell_type": "code",
   "execution_count": 3,
   "id": "7923c7b3",
   "metadata": {
    "execution": {
     "iopub.execute_input": "2021-11-09T17:05:27.871745Z",
     "iopub.status.busy": "2021-11-09T17:05:27.865231Z",
     "iopub.status.idle": "2021-11-09T17:05:27.878365Z",
     "shell.execute_reply": "2021-11-09T17:05:27.880063Z"
    },
    "jupyter": {
     "source_hidden": true
    },
    "papermill": {
     "duration": 0.053423,
     "end_time": "2021-11-09T17:05:27.880624",
     "exception": false,
     "start_time": "2021-11-09T17:05:27.827201",
     "status": "completed"
    },
    "tags": []
   },
   "outputs": [],
   "source": [
    "def c_engine(host, username, pwd, db_name, attempts = 3) :\n",
    "    try : \n",
    "        engine = sqlalchemy.create_engine('mysql+mysqlconnector://{user}:{password}@{host}/{database}'.format(\n",
    "            user = username,\n",
    "            password = pwd, \n",
    "            host = host,\n",
    "            database = db_name))\n",
    "        return engine\n",
    "    \n",
    "    except exc.SQLAlchemyError as error:\n",
    "        if attempts>0:\n",
    "            print(\"An error has occured \", error)\n",
    "            time.sleep(30)\n",
    "            c_engine(host, username, pwd, db_name, attempts-1)\n",
    "    return False\n",
    "\n",
    "def select_data(engine, table_name) : \n",
    "    try:\n",
    "        sql_query = pd.read_sql_query(\n",
    "            '''SELECT * FROM {table}'''.format(table = table_name), engine)\n",
    "        dataframe = pd.DataFrame(sql_query)\n",
    "        if dataframe.empty : \n",
    "            return False, None\n",
    "        else : \n",
    "            return True, dataframe\n",
    "    except exc.SQLAlchemyError as error:\n",
    "        print(\"An error has occured\", error)\n",
    "        return False, None"
   ]
  },
  {
   "cell_type": "code",
   "execution_count": 4,
   "id": "9389c1d6",
   "metadata": {
    "execution": {
     "iopub.execute_input": "2021-11-09T17:05:27.959941Z",
     "iopub.status.busy": "2021-11-09T17:05:27.950087Z",
     "iopub.status.idle": "2021-11-09T17:05:34.547513Z",
     "shell.execute_reply": "2021-11-09T17:05:34.549413Z"
    },
    "jupyter": {
     "source_hidden": true
    },
    "papermill": {
     "duration": 6.638908,
     "end_time": "2021-11-09T17:05:34.549677",
     "exception": false,
     "start_time": "2021-11-09T17:05:27.910769",
     "status": "completed"
    },
    "tags": []
   },
   "outputs": [],
   "source": [
    "#getting data\n",
    "engine = c_engine(\"cvp19.mysql.database.azure.com\", \"u5487210@cvp19\", \"jRG2XXi4CwjHvAa\", \"my_db\")\n",
    "_, dataframe = select_data(engine, 'vaccins')"
   ]
  },
  {
   "cell_type": "code",
   "execution_count": 5,
   "id": "cca13b2c",
   "metadata": {
    "execution": {
     "iopub.execute_input": "2021-11-09T17:05:34.633864Z",
     "iopub.status.busy": "2021-11-09T17:05:34.632620Z",
     "iopub.status.idle": "2021-11-09T17:05:34.674730Z",
     "shell.execute_reply": "2021-11-09T17:05:34.676330Z"
    },
    "jupyter": {
     "source_hidden": true
    },
    "papermill": {
     "duration": 0.095851,
     "end_time": "2021-11-09T17:05:34.676567",
     "exception": false,
     "start_time": "2021-11-09T17:05:34.580716",
     "status": "completed"
    },
    "tags": []
   },
   "outputs": [
    {
     "data": {
      "text/plain": [
       "Date                      object\n",
       "community                 object\n",
       "Total doses delivered      int64\n",
       "Doses administered         int64\n",
       "% over delivered         float64\n",
       "No. People vaccinated      int64\n",
       "ccaa_iso                  object\n",
       "dtype: object"
      ]
     },
     "execution_count": 5,
     "metadata": {},
     "output_type": "execute_result"
    }
   ],
   "source": [
    "dataframe.dtypes"
   ]
  },
  {
   "cell_type": "code",
   "execution_count": 6,
   "id": "0fe70119",
   "metadata": {
    "execution": {
     "iopub.execute_input": "2021-11-09T17:05:34.750491Z",
     "iopub.status.busy": "2021-11-09T17:05:34.748658Z",
     "iopub.status.idle": "2021-11-09T17:05:34.805410Z",
     "shell.execute_reply": "2021-11-09T17:05:34.809138Z"
    },
    "jupyter": {
     "source_hidden": true
    },
    "papermill": {
     "duration": 0.102042,
     "end_time": "2021-11-09T17:05:34.810159",
     "exception": false,
     "start_time": "2021-11-09T17:05:34.708117",
     "status": "completed"
    },
    "tags": []
   },
   "outputs": [
    {
     "data": {
      "text/html": [
       "<div>\n",
       "<style scoped>\n",
       "    .dataframe tbody tr th:only-of-type {\n",
       "        vertical-align: middle;\n",
       "    }\n",
       "\n",
       "    .dataframe tbody tr th {\n",
       "        vertical-align: top;\n",
       "    }\n",
       "\n",
       "    .dataframe thead th {\n",
       "        text-align: right;\n",
       "    }\n",
       "</style>\n",
       "<table border=\"1\" class=\"dataframe\">\n",
       "  <thead>\n",
       "    <tr style=\"text-align: right;\">\n",
       "      <th></th>\n",
       "      <th>community</th>\n",
       "      <th>Total doses delivered</th>\n",
       "      <th>Doses administered</th>\n",
       "      <th>% over delivered</th>\n",
       "      <th>No. People vaccinated</th>\n",
       "      <th>ccaa_iso</th>\n",
       "    </tr>\n",
       "    <tr>\n",
       "      <th>Date</th>\n",
       "      <th></th>\n",
       "      <th></th>\n",
       "      <th></th>\n",
       "      <th></th>\n",
       "      <th></th>\n",
       "      <th></th>\n",
       "    </tr>\n",
       "  </thead>\n",
       "  <tbody>\n",
       "    <tr>\n",
       "      <th>2021-02-01</th>\n",
       "      <td>Andalucía</td>\n",
       "      <td>330980</td>\n",
       "      <td>313286</td>\n",
       "      <td>0.946541</td>\n",
       "      <td>90764</td>\n",
       "      <td>AN</td>\n",
       "    </tr>\n",
       "    <tr>\n",
       "      <th>2021-02-01</th>\n",
       "      <td>Navarra</td>\n",
       "      <td>28145</td>\n",
       "      <td>26779</td>\n",
       "      <td>0.951466</td>\n",
       "      <td>6320</td>\n",
       "      <td>NC</td>\n",
       "    </tr>\n",
       "    <tr>\n",
       "      <th>2021-02-01</th>\n",
       "      <td>Madrid</td>\n",
       "      <td>232775</td>\n",
       "      <td>199495</td>\n",
       "      <td>0.857029</td>\n",
       "      <td>24312</td>\n",
       "      <td>MD</td>\n",
       "    </tr>\n",
       "    <tr>\n",
       "      <th>2021-02-01</th>\n",
       "      <td>Murcia</td>\n",
       "      <td>60425</td>\n",
       "      <td>60731</td>\n",
       "      <td>1.005064</td>\n",
       "      <td>12580</td>\n",
       "      <td>MC</td>\n",
       "    </tr>\n",
       "    <tr>\n",
       "      <th>2021-02-01</th>\n",
       "      <td>Aragón</td>\n",
       "      <td>56505</td>\n",
       "      <td>56482</td>\n",
       "      <td>0.999593</td>\n",
       "      <td>11119</td>\n",
       "      <td>AR</td>\n",
       "    </tr>\n",
       "    <tr>\n",
       "      <th>...</th>\n",
       "      <td>...</td>\n",
       "      <td>...</td>\n",
       "      <td>...</td>\n",
       "      <td>...</td>\n",
       "      <td>...</td>\n",
       "      <td>...</td>\n",
       "    </tr>\n",
       "    <tr>\n",
       "      <th>2021-10-19</th>\n",
       "      <td>Baleares</td>\n",
       "      <td>1891250</td>\n",
       "      <td>1600506</td>\n",
       "      <td>0.846269</td>\n",
       "      <td>836118</td>\n",
       "      <td>IB</td>\n",
       "    </tr>\n",
       "    <tr>\n",
       "      <th>2021-10-19</th>\n",
       "      <td>Asturias</td>\n",
       "      <td>1650625</td>\n",
       "      <td>1674335</td>\n",
       "      <td>1.014364</td>\n",
       "      <td>863579</td>\n",
       "      <td>AS</td>\n",
       "    </tr>\n",
       "    <tr>\n",
       "      <th>2021-10-19</th>\n",
       "      <td>Aragón</td>\n",
       "      <td>2136845</td>\n",
       "      <td>1998233</td>\n",
       "      <td>0.935132</td>\n",
       "      <td>1044155</td>\n",
       "      <td>AR</td>\n",
       "    </tr>\n",
       "    <tr>\n",
       "      <th>2021-10-19</th>\n",
       "      <td>Ceuta</td>\n",
       "      <td>140230</td>\n",
       "      <td>113883</td>\n",
       "      <td>0.812116</td>\n",
       "      <td>59236</td>\n",
       "      <td>CE</td>\n",
       "    </tr>\n",
       "    <tr>\n",
       "      <th>2021-10-19</th>\n",
       "      <td>Canarias</td>\n",
       "      <td>3522840</td>\n",
       "      <td>3140255</td>\n",
       "      <td>0.891399</td>\n",
       "      <td>1628689</td>\n",
       "      <td>CN</td>\n",
       "    </tr>\n",
       "  </tbody>\n",
       "</table>\n",
       "<p>4788 rows × 6 columns</p>\n",
       "</div>"
      ],
      "text/plain": [
       "            community  Total doses delivered  Doses administered  \\\n",
       "Date                                                               \n",
       "2021-02-01  Andalucía                 330980              313286   \n",
       "2021-02-01    Navarra                  28145               26779   \n",
       "2021-02-01     Madrid                 232775              199495   \n",
       "2021-02-01    Murcia                   60425               60731   \n",
       "2021-02-01     Aragón                  56505               56482   \n",
       "...               ...                    ...                 ...   \n",
       "2021-10-19   Baleares                1891250             1600506   \n",
       "2021-10-19  Asturias                 1650625             1674335   \n",
       "2021-10-19     Aragón                2136845             1998233   \n",
       "2021-10-19      Ceuta                 140230              113883   \n",
       "2021-10-19   Canarias                3522840             3140255   \n",
       "\n",
       "            % over delivered  No. People vaccinated ccaa_iso  \n",
       "Date                                                          \n",
       "2021-02-01          0.946541                  90764       AN  \n",
       "2021-02-01          0.951466                   6320       NC  \n",
       "2021-02-01          0.857029                  24312       MD  \n",
       "2021-02-01          1.005064                  12580       MC  \n",
       "2021-02-01          0.999593                  11119       AR  \n",
       "...                      ...                    ...      ...  \n",
       "2021-10-19          0.846269                 836118       IB  \n",
       "2021-10-19          1.014364                 863579       AS  \n",
       "2021-10-19          0.935132                1044155       AR  \n",
       "2021-10-19          0.812116                  59236       CE  \n",
       "2021-10-19          0.891399                1628689       CN  \n",
       "\n",
       "[4788 rows x 6 columns]"
      ]
     },
     "execution_count": 6,
     "metadata": {},
     "output_type": "execute_result"
    }
   ],
   "source": [
    "#sorting dates and setting date column as index\n",
    "dataframe[\"Date\"] = pd.to_datetime(dataframe[\"Date\"])\n",
    "dataframe = dataframe.sort_values([\"Date\"]).set_index(\"Date\")\n",
    "dataframe"
   ]
  },
  {
   "cell_type": "code",
   "execution_count": 7,
   "id": "03c64b8d",
   "metadata": {
    "execution": {
     "iopub.execute_input": "2021-11-09T17:05:34.899447Z",
     "iopub.status.busy": "2021-11-09T17:05:34.894372Z",
     "iopub.status.idle": "2021-11-09T17:05:34.925217Z",
     "shell.execute_reply": "2021-11-09T17:05:34.927415Z"
    },
    "jupyter": {
     "source_hidden": true
    },
    "papermill": {
     "duration": 0.081484,
     "end_time": "2021-11-09T17:05:34.927802",
     "exception": false,
     "start_time": "2021-11-09T17:05:34.846318",
     "status": "completed"
    },
    "tags": []
   },
   "outputs": [],
   "source": [
    "def correct_dfs(dataframe, range_dates) : \n",
    "    \n",
    "    full_dataframe = dataframe.loc[\"2021-02-01\"]\n",
    "    \n",
    "    for date in range_dates : \n",
    "\n",
    "        short_dataframe = dataframe.loc[date.strftime(\"%Y-%m-%d\")].groupby(\"community\", as_index = False).max()\n",
    "        nn_ccaa = [ccaa for ccaa in full_dataframe[\"community\"].to_list() if ccaa not in short_dataframe[\"community\"].to_list()]\n",
    "        concat = pd.concat([short_dataframe, full_dataframe.loc[full_dataframe[\"community\"].isin(nn_ccaa)]])\n",
    "        concat.index = [date for i in range(len(concat.index.to_list()))]   \n",
    "        \n",
    "        dataframe = dataframe.loc[dataframe.index != date.strftime(\"%Y-%m-%d\")]\n",
    "        dataframe = dataframe.append(concat)\n",
    "        full_dataframe = concat\n",
    "        \n",
    "    return dataframe\n",
    "\n",
    "\n",
    "def unavailable_dates(df, dates):\n",
    "    #sorting dates :\n",
    "    dates_sorted = dates.sort()\n",
    "    \n",
    "    for date in dates : \n",
    "        print(\"We treating that date {date} ---\".format(date = date))\n",
    "        \n",
    "        day_before = date - datetime.timedelta(days=1)\n",
    "        \n",
    "        sub_df = df.loc[day_before.strftime(\"%Y-%m-%d\")].groupby(\"community\", as_index = False).max()\n",
    "        sub_df.index = [date for i in range(len(sub_df.index.to_list()))]\n",
    "        df = df.append(sub_df)\n",
    "        \n",
    "        \n",
    "    return df"
   ]
  },
  {
   "cell_type": "code",
   "execution_count": 8,
   "id": "ad71a274",
   "metadata": {
    "execution": {
     "iopub.execute_input": "2021-11-09T17:05:35.024241Z",
     "iopub.status.busy": "2021-11-09T17:05:35.017620Z",
     "iopub.status.idle": "2021-11-09T17:05:35.031193Z",
     "shell.execute_reply": "2021-11-09T17:05:35.034100Z"
    },
    "jupyter": {
     "source_hidden": true
    },
    "papermill": {
     "duration": 0.064444,
     "end_time": "2021-11-09T17:05:35.035587",
     "exception": false,
     "start_time": "2021-11-09T17:05:34.971143",
     "status": "completed"
    },
    "tags": []
   },
   "outputs": [],
   "source": [
    "test_range = [datetime.datetime(2021,1,15) + datetime.timedelta(days = i) for i in range(266)][18:]"
   ]
  },
  {
   "cell_type": "code",
   "execution_count": 9,
   "id": "94dcdfca",
   "metadata": {
    "execution": {
     "iopub.execute_input": "2021-11-09T17:05:35.123115Z",
     "iopub.status.busy": "2021-11-09T17:05:35.116836Z",
     "iopub.status.idle": "2021-11-09T17:05:40.730132Z",
     "shell.execute_reply": "2021-11-09T17:05:40.731630Z"
    },
    "jupyter": {
     "source_hidden": true
    },
    "papermill": {
     "duration": 5.655984,
     "end_time": "2021-11-09T17:05:40.731868",
     "exception": false,
     "start_time": "2021-11-09T17:05:35.075884",
     "status": "completed"
    },
    "tags": []
   },
   "outputs": [
    {
     "data": {
      "text/plain": [
       "[]"
      ]
     },
     "execution_count": 9,
     "metadata": {},
     "output_type": "execute_result"
    }
   ],
   "source": [
    "missing_dates = [date for date in test_range if date not in dataframe.index.to_list()]\n",
    "missing_dates"
   ]
  },
  {
   "cell_type": "code",
   "execution_count": 10,
   "id": "bfa8c02d",
   "metadata": {
    "execution": {
     "iopub.execute_input": "2021-11-09T17:05:40.806310Z",
     "iopub.status.busy": "2021-11-09T17:05:40.802655Z",
     "iopub.status.idle": "2021-11-09T17:05:40.809997Z",
     "shell.execute_reply": "2021-11-09T17:05:40.811187Z"
    },
    "jupyter": {
     "source_hidden": true
    },
    "papermill": {
     "duration": 0.04699,
     "end_time": "2021-11-09T17:05:40.811563",
     "exception": false,
     "start_time": "2021-11-09T17:05:40.764573",
     "status": "completed"
    },
    "tags": []
   },
   "outputs": [],
   "source": [
    "corrected_dates = unavailable_dates(dataframe, missing_dates)"
   ]
  },
  {
   "cell_type": "code",
   "execution_count": 11,
   "id": "f6e7880e",
   "metadata": {
    "execution": {
     "iopub.execute_input": "2021-11-09T17:05:40.913792Z",
     "iopub.status.busy": "2021-11-09T17:05:40.911470Z",
     "iopub.status.idle": "2021-11-09T17:05:40.975126Z",
     "shell.execute_reply": "2021-11-09T17:05:40.980742Z"
    },
    "jupyter": {
     "source_hidden": true
    },
    "papermill": {
     "duration": 0.134702,
     "end_time": "2021-11-09T17:05:40.981336",
     "exception": false,
     "start_time": "2021-11-09T17:05:40.846634",
     "status": "completed"
    },
    "tags": []
   },
   "outputs": [
    {
     "data": {
      "text/html": [
       "<div>\n",
       "<style scoped>\n",
       "    .dataframe tbody tr th:only-of-type {\n",
       "        vertical-align: middle;\n",
       "    }\n",
       "\n",
       "    .dataframe tbody tr th {\n",
       "        vertical-align: top;\n",
       "    }\n",
       "\n",
       "    .dataframe thead th {\n",
       "        text-align: right;\n",
       "    }\n",
       "</style>\n",
       "<table border=\"1\" class=\"dataframe\">\n",
       "  <thead>\n",
       "    <tr style=\"text-align: right;\">\n",
       "      <th></th>\n",
       "      <th>community</th>\n",
       "      <th>Total doses delivered</th>\n",
       "      <th>Doses administered</th>\n",
       "      <th>% over delivered</th>\n",
       "      <th>No. People vaccinated</th>\n",
       "      <th>ccaa_iso</th>\n",
       "    </tr>\n",
       "    <tr>\n",
       "      <th>Date</th>\n",
       "      <th></th>\n",
       "      <th></th>\n",
       "      <th></th>\n",
       "      <th></th>\n",
       "      <th></th>\n",
       "      <th></th>\n",
       "    </tr>\n",
       "  </thead>\n",
       "  <tbody>\n",
       "    <tr>\n",
       "      <th>2021-02-01</th>\n",
       "      <td>Andalucía</td>\n",
       "      <td>330980</td>\n",
       "      <td>313286</td>\n",
       "      <td>0.946541</td>\n",
       "      <td>90764</td>\n",
       "      <td>AN</td>\n",
       "    </tr>\n",
       "    <tr>\n",
       "      <th>2021-02-01</th>\n",
       "      <td>Navarra</td>\n",
       "      <td>28145</td>\n",
       "      <td>26779</td>\n",
       "      <td>0.951466</td>\n",
       "      <td>6320</td>\n",
       "      <td>NC</td>\n",
       "    </tr>\n",
       "    <tr>\n",
       "      <th>2021-02-01</th>\n",
       "      <td>Madrid</td>\n",
       "      <td>232775</td>\n",
       "      <td>199495</td>\n",
       "      <td>0.857029</td>\n",
       "      <td>24312</td>\n",
       "      <td>MD</td>\n",
       "    </tr>\n",
       "    <tr>\n",
       "      <th>2021-02-01</th>\n",
       "      <td>Murcia</td>\n",
       "      <td>60425</td>\n",
       "      <td>60731</td>\n",
       "      <td>1.005064</td>\n",
       "      <td>12580</td>\n",
       "      <td>MC</td>\n",
       "    </tr>\n",
       "    <tr>\n",
       "      <th>2021-02-01</th>\n",
       "      <td>Aragón</td>\n",
       "      <td>56505</td>\n",
       "      <td>56482</td>\n",
       "      <td>0.999593</td>\n",
       "      <td>11119</td>\n",
       "      <td>AR</td>\n",
       "    </tr>\n",
       "    <tr>\n",
       "      <th>...</th>\n",
       "      <td>...</td>\n",
       "      <td>...</td>\n",
       "      <td>...</td>\n",
       "      <td>...</td>\n",
       "      <td>...</td>\n",
       "      <td>...</td>\n",
       "    </tr>\n",
       "    <tr>\n",
       "      <th>2021-10-19</th>\n",
       "      <td>Baleares</td>\n",
       "      <td>1891250</td>\n",
       "      <td>1600506</td>\n",
       "      <td>0.846269</td>\n",
       "      <td>836118</td>\n",
       "      <td>IB</td>\n",
       "    </tr>\n",
       "    <tr>\n",
       "      <th>2021-10-19</th>\n",
       "      <td>Asturias</td>\n",
       "      <td>1650625</td>\n",
       "      <td>1674335</td>\n",
       "      <td>1.014364</td>\n",
       "      <td>863579</td>\n",
       "      <td>AS</td>\n",
       "    </tr>\n",
       "    <tr>\n",
       "      <th>2021-10-19</th>\n",
       "      <td>Aragón</td>\n",
       "      <td>2136845</td>\n",
       "      <td>1998233</td>\n",
       "      <td>0.935132</td>\n",
       "      <td>1044155</td>\n",
       "      <td>AR</td>\n",
       "    </tr>\n",
       "    <tr>\n",
       "      <th>2021-10-19</th>\n",
       "      <td>Ceuta</td>\n",
       "      <td>140230</td>\n",
       "      <td>113883</td>\n",
       "      <td>0.812116</td>\n",
       "      <td>59236</td>\n",
       "      <td>CE</td>\n",
       "    </tr>\n",
       "    <tr>\n",
       "      <th>2021-10-19</th>\n",
       "      <td>Canarias</td>\n",
       "      <td>3522840</td>\n",
       "      <td>3140255</td>\n",
       "      <td>0.891399</td>\n",
       "      <td>1628689</td>\n",
       "      <td>CN</td>\n",
       "    </tr>\n",
       "  </tbody>\n",
       "</table>\n",
       "<p>4788 rows × 6 columns</p>\n",
       "</div>"
      ],
      "text/plain": [
       "            community  Total doses delivered  Doses administered  \\\n",
       "Date                                                               \n",
       "2021-02-01  Andalucía                 330980              313286   \n",
       "2021-02-01    Navarra                  28145               26779   \n",
       "2021-02-01     Madrid                 232775              199495   \n",
       "2021-02-01    Murcia                   60425               60731   \n",
       "2021-02-01     Aragón                  56505               56482   \n",
       "...               ...                    ...                 ...   \n",
       "2021-10-19   Baleares                1891250             1600506   \n",
       "2021-10-19  Asturias                 1650625             1674335   \n",
       "2021-10-19     Aragón                2136845             1998233   \n",
       "2021-10-19      Ceuta                 140230              113883   \n",
       "2021-10-19   Canarias                3522840             3140255   \n",
       "\n",
       "            % over delivered  No. People vaccinated ccaa_iso  \n",
       "Date                                                          \n",
       "2021-02-01          0.946541                  90764       AN  \n",
       "2021-02-01          0.951466                   6320       NC  \n",
       "2021-02-01          0.857029                  24312       MD  \n",
       "2021-02-01          1.005064                  12580       MC  \n",
       "2021-02-01          0.999593                  11119       AR  \n",
       "...                      ...                    ...      ...  \n",
       "2021-10-19          0.846269                 836118       IB  \n",
       "2021-10-19          1.014364                 863579       AS  \n",
       "2021-10-19          0.935132                1044155       AR  \n",
       "2021-10-19          0.812116                  59236       CE  \n",
       "2021-10-19          0.891399                1628689       CN  \n",
       "\n",
       "[4788 rows x 6 columns]"
      ]
     },
     "execution_count": 11,
     "metadata": {},
     "output_type": "execute_result"
    }
   ],
   "source": [
    "corrected_dates = corrected_dates.loc[\"2021-02-01\":].sort_index()\n",
    "corrected_dates"
   ]
  },
  {
   "cell_type": "code",
   "execution_count": 12,
   "id": "25c30a76",
   "metadata": {
    "execution": {
     "iopub.execute_input": "2021-11-09T17:05:41.069213Z",
     "iopub.status.busy": "2021-11-09T17:05:41.068125Z",
     "iopub.status.idle": "2021-11-09T17:05:51.482208Z",
     "shell.execute_reply": "2021-11-09T17:05:51.483554Z"
    },
    "jupyter": {
     "source_hidden": true
    },
    "papermill": {
     "duration": 10.463606,
     "end_time": "2021-11-09T17:05:51.483787",
     "exception": false,
     "start_time": "2021-11-09T17:05:41.020181",
     "status": "completed"
    },
    "tags": []
   },
   "outputs": [],
   "source": [
    "final = correct_dfs(corrected_dates, test_range).sort_index()"
   ]
  },
  {
   "cell_type": "code",
   "execution_count": 13,
   "id": "849b1abd",
   "metadata": {
    "execution": {
     "iopub.execute_input": "2021-11-09T17:05:51.584244Z",
     "iopub.status.busy": "2021-11-09T17:05:51.574134Z",
     "iopub.status.idle": "2021-11-09T17:05:51.615919Z",
     "shell.execute_reply": "2021-11-09T17:05:51.617216Z"
    },
    "jupyter": {
     "source_hidden": true
    },
    "papermill": {
     "duration": 0.099058,
     "end_time": "2021-11-09T17:05:51.617447",
     "exception": false,
     "start_time": "2021-11-09T17:05:51.518389",
     "status": "completed"
    },
    "tags": []
   },
   "outputs": [
    {
     "data": {
      "text/html": [
       "<div>\n",
       "<style scoped>\n",
       "    .dataframe tbody tr th:only-of-type {\n",
       "        vertical-align: middle;\n",
       "    }\n",
       "\n",
       "    .dataframe tbody tr th {\n",
       "        vertical-align: top;\n",
       "    }\n",
       "\n",
       "    .dataframe thead th {\n",
       "        text-align: right;\n",
       "    }\n",
       "</style>\n",
       "<table border=\"1\" class=\"dataframe\">\n",
       "  <thead>\n",
       "    <tr style=\"text-align: right;\">\n",
       "      <th></th>\n",
       "      <th>community</th>\n",
       "      <th>Total doses delivered</th>\n",
       "      <th>Doses administered</th>\n",
       "      <th>% over delivered</th>\n",
       "      <th>No. People vaccinated</th>\n",
       "      <th>ccaa_iso</th>\n",
       "    </tr>\n",
       "  </thead>\n",
       "  <tbody>\n",
       "    <tr>\n",
       "      <th>2021-02-01</th>\n",
       "      <td>Andalucía</td>\n",
       "      <td>330980</td>\n",
       "      <td>313286</td>\n",
       "      <td>0.946541</td>\n",
       "      <td>90764</td>\n",
       "      <td>AN</td>\n",
       "    </tr>\n",
       "    <tr>\n",
       "      <th>2021-02-01</th>\n",
       "      <td>Castilla La Mancha</td>\n",
       "      <td>84635</td>\n",
       "      <td>88888</td>\n",
       "      <td>1.050251</td>\n",
       "      <td>21360</td>\n",
       "      <td>CM</td>\n",
       "    </tr>\n",
       "    <tr>\n",
       "      <th>2021-02-01</th>\n",
       "      <td>C. Valenciana</td>\n",
       "      <td>145830</td>\n",
       "      <td>147945</td>\n",
       "      <td>1.014503</td>\n",
       "      <td>44979</td>\n",
       "      <td>VC</td>\n",
       "    </tr>\n",
       "    <tr>\n",
       "      <th>2021-02-01</th>\n",
       "      <td>Asturias</td>\n",
       "      <td>59435</td>\n",
       "      <td>58177</td>\n",
       "      <td>0.978834</td>\n",
       "      <td>19503</td>\n",
       "      <td>AS</td>\n",
       "    </tr>\n",
       "    <tr>\n",
       "      <th>2021-02-01</th>\n",
       "      <td>Castilla y Leon</td>\n",
       "      <td>123895</td>\n",
       "      <td>126362</td>\n",
       "      <td>1.019912</td>\n",
       "      <td>35051</td>\n",
       "      <td>CL</td>\n",
       "    </tr>\n",
       "    <tr>\n",
       "      <th>...</th>\n",
       "      <td>...</td>\n",
       "      <td>...</td>\n",
       "      <td>...</td>\n",
       "      <td>...</td>\n",
       "      <td>...</td>\n",
       "      <td>...</td>\n",
       "    </tr>\n",
       "    <tr>\n",
       "      <th>2021-10-19</th>\n",
       "      <td>Castilla La Mancha</td>\n",
       "      <td>3267280</td>\n",
       "      <td>3020014</td>\n",
       "      <td>0.924321</td>\n",
       "      <td>1552693</td>\n",
       "      <td>CM</td>\n",
       "    </tr>\n",
       "    <tr>\n",
       "      <th>2021-10-19</th>\n",
       "      <td>Baleares</td>\n",
       "      <td>1891250</td>\n",
       "      <td>1600506</td>\n",
       "      <td>0.846269</td>\n",
       "      <td>836118</td>\n",
       "      <td>IB</td>\n",
       "    </tr>\n",
       "    <tr>\n",
       "      <th>2021-10-19</th>\n",
       "      <td>Asturias</td>\n",
       "      <td>1650625</td>\n",
       "      <td>1674335</td>\n",
       "      <td>1.014364</td>\n",
       "      <td>863579</td>\n",
       "      <td>AS</td>\n",
       "    </tr>\n",
       "    <tr>\n",
       "      <th>2021-10-19</th>\n",
       "      <td>Aragón</td>\n",
       "      <td>2136845</td>\n",
       "      <td>1998233</td>\n",
       "      <td>0.935132</td>\n",
       "      <td>1044155</td>\n",
       "      <td>AR</td>\n",
       "    </tr>\n",
       "    <tr>\n",
       "      <th>2021-10-19</th>\n",
       "      <td>Ceuta</td>\n",
       "      <td>140230</td>\n",
       "      <td>113883</td>\n",
       "      <td>0.812116</td>\n",
       "      <td>59236</td>\n",
       "      <td>CE</td>\n",
       "    </tr>\n",
       "  </tbody>\n",
       "</table>\n",
       "<p>4788 rows × 6 columns</p>\n",
       "</div>"
      ],
      "text/plain": [
       "                     community  Total doses delivered  Doses administered  \\\n",
       "2021-02-01           Andalucía                 330980              313286   \n",
       "2021-02-01  Castilla La Mancha                  84635               88888   \n",
       "2021-02-01       C. Valenciana                 145830              147945   \n",
       "2021-02-01           Asturias                   59435               58177   \n",
       "2021-02-01    Castilla y Leon                  123895              126362   \n",
       "...                        ...                    ...                 ...   \n",
       "2021-10-19  Castilla La Mancha                3267280             3020014   \n",
       "2021-10-19            Baleares                1891250             1600506   \n",
       "2021-10-19           Asturias                 1650625             1674335   \n",
       "2021-10-19              Aragón                2136845             1998233   \n",
       "2021-10-19               Ceuta                 140230              113883   \n",
       "\n",
       "            % over delivered  No. People vaccinated ccaa_iso  \n",
       "2021-02-01          0.946541                  90764       AN  \n",
       "2021-02-01          1.050251                  21360       CM  \n",
       "2021-02-01          1.014503                  44979       VC  \n",
       "2021-02-01          0.978834                  19503       AS  \n",
       "2021-02-01          1.019912                  35051       CL  \n",
       "...                      ...                    ...      ...  \n",
       "2021-10-19          0.924321                1552693       CM  \n",
       "2021-10-19          0.846269                 836118       IB  \n",
       "2021-10-19          1.014364                 863579       AS  \n",
       "2021-10-19          0.935132                1044155       AR  \n",
       "2021-10-19          0.812116                  59236       CE  \n",
       "\n",
       "[4788 rows x 6 columns]"
      ]
     },
     "execution_count": 13,
     "metadata": {},
     "output_type": "execute_result"
    }
   ],
   "source": [
    "final"
   ]
  },
  {
   "cell_type": "code",
   "execution_count": 14,
   "id": "126f91db",
   "metadata": {
    "execution": {
     "iopub.execute_input": "2021-11-09T17:05:51.700873Z",
     "iopub.status.busy": "2021-11-09T17:05:51.697694Z",
     "iopub.status.idle": "2021-11-09T17:05:51.708366Z",
     "shell.execute_reply": "2021-11-09T17:05:51.709157Z"
    },
    "jupyter": {
     "source_hidden": true
    },
    "papermill": {
     "duration": 0.056392,
     "end_time": "2021-11-09T17:05:51.709469",
     "exception": false,
     "start_time": "2021-11-09T17:05:51.653077",
     "status": "completed"
    },
    "tags": []
   },
   "outputs": [
    {
     "name": "stdout",
     "output_type": "stream",
     "text": [
      "Error !\n"
     ]
    }
   ],
   "source": [
    "#getting data\n",
    "try :\n",
    "    final.to_sql(con=engine(), name='vaccins', if_exists='replace')\n",
    "except : \n",
    "    print(\"Error !\")\n"
   ]
  }
 ],
 "metadata": {
  "kernelspec": {
   "display_name": "Python 3",
   "language": "python",
   "name": "python3"
  },
  "language_info": {
   "codemirror_mode": {
    "name": "ipython",
    "version": 3
   },
   "file_extension": ".py",
   "mimetype": "text/x-python",
   "name": "python",
   "nbconvert_exporter": "python",
   "pygments_lexer": "ipython3",
   "version": "3.7.5"
  },
  "papermill": {
   "default_parameters": {},
   "duration": 28.201956,
   "end_time": "2021-11-09T17:05:52.161766",
   "environment_variables": {},
   "exception": null,
   "input_path": "/home/kali/COVID-19-ES/airflow/process/update.ipynb",
   "output_path": "/home/kali/COVID-19-ES/airflow/process/outs/out-update2021-11-09T17:04:35.707564+00:00.ipynb",
   "parameters": {
    "msgs": "Ran from Airflow at 2021-11-09T17:04:35.707564+00:00!"
   },
   "start_time": "2021-11-09T17:05:23.959810",
   "version": "2.3.3"
  }
 },
 "nbformat": 4,
 "nbformat_minor": 5
}