{
 "cells": [
  {
   "cell_type": "code",
   "execution_count": 1,
   "id": "77e0d5f9",
   "metadata": {
    "execution": {
     "iopub.execute_input": "2021-11-09T17:19:18.694490Z",
     "iopub.status.busy": "2021-11-09T17:19:18.692487Z",
     "iopub.status.idle": "2021-11-09T17:19:18.709395Z",
     "shell.execute_reply": "2021-11-09T17:19:18.711062Z"
    },
    "jupyter": {
     "source_hidden": true
    },
    "papermill": {
     "duration": 0.059063,
     "end_time": "2021-11-09T17:19:18.711481",
     "exception": false,
     "start_time": "2021-11-09T17:19:18.652418",
     "status": "completed"
    },
    "tags": [
     "injected-parameters"
    ]
   },
   "outputs": [],
   "source": [
    "# Parameters\n",
    "msgs = \"Ran from Airflow at 2021-11-09T17:18:37.539830+00:00!\"\n"
   ]
  },
  {
   "cell_type": "code",
   "execution_count": 2,
   "id": "25cb325f",
   "metadata": {
    "execution": {
     "iopub.execute_input": "2021-11-09T17:19:18.777242Z",
     "iopub.status.busy": "2021-11-09T17:19:18.776158Z",
     "iopub.status.idle": "2021-11-09T17:19:19.652944Z",
     "shell.execute_reply": "2021-11-09T17:19:19.654789Z"
    },
    "jupyter": {
     "source_hidden": true
    },
    "papermill": {
     "duration": 0.913417,
     "end_time": "2021-11-09T17:19:19.655143",
     "exception": false,
     "start_time": "2021-11-09T17:19:18.741726",
     "status": "completed"
    },
    "tags": []
   },
   "outputs": [],
   "source": [
    "import requests\n",
    "import time\n",
    "import datetime\n",
    "import pandas as pd\n",
    "import io\n",
    "import mysql.connector\n",
    "from sqlalchemy import exc\n",
    "import sqlalchemy\n",
    "pd.options.display.max_rows = 150"
   ]
  },
  {
   "cell_type": "code",
   "execution_count": 3,
   "id": "7923c7b3",
   "metadata": {
    "execution": {
     "iopub.execute_input": "2021-11-09T17:19:19.719923Z",
     "iopub.status.busy": "2021-11-09T17:19:19.716512Z",
     "iopub.status.idle": "2021-11-09T17:19:19.729156Z",
     "shell.execute_reply": "2021-11-09T17:19:19.730407Z"
    },
    "jupyter": {
     "source_hidden": true
    },
    "papermill": {
     "duration": 0.049391,
     "end_time": "2021-11-09T17:19:19.730762",
     "exception": false,
     "start_time": "2021-11-09T17:19:19.681371",
     "status": "completed"
    },
    "tags": []
   },
   "outputs": [],
   "source": [
    "def c_engine(host, username, pwd, db_name, attempts = 3) :\n",
    "    try : \n",
    "        engine = sqlalchemy.create_engine('mysql+mysqlconnector://{user}:{password}@{host}/{database}'.format(\n",
    "            user = username,\n",
    "            password = pwd, \n",
    "            host = host,\n",
    "            database = db_name))\n",
    "        return engine\n",
    "    \n",
    "    except exc.SQLAlchemyError as error:\n",
    "        if attempts>0:\n",
    "            print(\"An error has occured \", error)\n",
    "            time.sleep(30)\n",
    "            c_engine(host, username, pwd, db_name, attempts-1)\n",
    "    return False\n",
    "\n",
    "def select_data(engine, table_name) : \n",
    "    try:\n",
    "        sql_query = pd.read_sql_query(\n",
    "            '''SELECT * FROM {table}'''.format(table = table_name), engine)\n",
    "        dataframe = pd.DataFrame(sql_query)\n",
    "        if dataframe.empty : \n",
    "            return False, None\n",
    "        else : \n",
    "            return True, dataframe\n",
    "    except exc.SQLAlchemyError as error:\n",
    "        print(\"An error has occured\", error)\n",
    "        return False, None"
   ]
  },
  {
   "cell_type": "code",
   "execution_count": 4,
   "id": "9389c1d6",
   "metadata": {
    "execution": {
     "iopub.execute_input": "2021-11-09T17:19:19.797262Z",
     "iopub.status.busy": "2021-11-09T17:19:19.796147Z",
     "iopub.status.idle": "2021-11-09T17:19:26.233825Z",
     "shell.execute_reply": "2021-11-09T17:19:26.235303Z"
    },
    "jupyter": {
     "source_hidden": true
    },
    "papermill": {
     "duration": 6.474686,
     "end_time": "2021-11-09T17:19:26.235567",
     "exception": false,
     "start_time": "2021-11-09T17:19:19.760881",
     "status": "completed"
    },
    "tags": []
   },
   "outputs": [],
   "source": [
    "#getting data\n",
    "engine = c_engine(\"cvp19.mysql.database.azure.com\", \"u5487210@cvp19\", \"jRG2XXi4CwjHvAa\", \"my_db\")\n",
    "_, dataframe = select_data(engine, 'vaccins')"
   ]
  },
  {
   "cell_type": "code",
   "execution_count": 5,
   "id": "cca13b2c",
   "metadata": {
    "execution": {
     "iopub.execute_input": "2021-11-09T17:19:26.308617Z",
     "iopub.status.busy": "2021-11-09T17:19:26.307468Z",
     "iopub.status.idle": "2021-11-09T17:19:26.329677Z",
     "shell.execute_reply": "2021-11-09T17:19:26.331689Z"
    },
    "jupyter": {
     "source_hidden": true
    },
    "papermill": {
     "duration": 0.069436,
     "end_time": "2021-11-09T17:19:26.331964",
     "exception": false,
     "start_time": "2021-11-09T17:19:26.262528",
     "status": "completed"
    },
    "tags": []
   },
   "outputs": [
    {
     "data": {
      "text/plain": [
       "Date                      object\n",
       "community                 object\n",
       "Total doses delivered      int64\n",
       "Doses administered         int64\n",
       "% over delivered         float64\n",
       "No. People vaccinated      int64\n",
       "ccaa_iso                  object\n",
       "dtype: object"
      ]
     },
     "execution_count": 5,
     "metadata": {},
     "output_type": "execute_result"
    }
   ],
   "source": [
    "dataframe.dtypes"
   ]
  },
  {
   "cell_type": "code",
   "execution_count": 6,
   "id": "0fe70119",
   "metadata": {
    "execution": {
     "iopub.execute_input": "2021-11-09T17:19:26.421908Z",
     "iopub.status.busy": "2021-11-09T17:19:26.420797Z",
     "iopub.status.idle": "2021-11-09T17:19:26.469161Z",
     "shell.execute_reply": "2021-11-09T17:19:26.471015Z"
    },
    "jupyter": {
     "source_hidden": true
    },
    "papermill": {
     "duration": 0.087509,
     "end_time": "2021-11-09T17:19:26.471329",
     "exception": false,
     "start_time": "2021-11-09T17:19:26.383820",
     "status": "completed"
    },
    "tags": []
   },
   "outputs": [
    {
     "data": {
      "text/html": [
       "<div>\n",
       "<style scoped>\n",
       "    .dataframe tbody tr th:only-of-type {\n",
       "        vertical-align: middle;\n",
       "    }\n",
       "\n",
       "    .dataframe tbody tr th {\n",
       "        vertical-align: top;\n",
       "    }\n",
       "\n",
       "    .dataframe thead th {\n",
       "        text-align: right;\n",
       "    }\n",
       "</style>\n",
       "<table border=\"1\" class=\"dataframe\">\n",
       "  <thead>\n",
       "    <tr style=\"text-align: right;\">\n",
       "      <th></th>\n",
       "      <th>community</th>\n",
       "      <th>Total doses delivered</th>\n",
       "      <th>Doses administered</th>\n",
       "      <th>% over delivered</th>\n",
       "      <th>No. People vaccinated</th>\n",
       "      <th>ccaa_iso</th>\n",
       "    </tr>\n",
       "    <tr>\n",
       "      <th>Date</th>\n",
       "      <th></th>\n",
       "      <th></th>\n",
       "      <th></th>\n",
       "      <th></th>\n",
       "      <th></th>\n",
       "      <th></th>\n",
       "    </tr>\n",
       "  </thead>\n",
       "  <tbody>\n",
       "    <tr>\n",
       "      <th>2021-02-01</th>\n",
       "      <td>Andalucía</td>\n",
       "      <td>330980</td>\n",
       "      <td>313286</td>\n",
       "      <td>0.946541</td>\n",
       "      <td>90764</td>\n",
       "      <td>AN</td>\n",
       "    </tr>\n",
       "    <tr>\n",
       "      <th>2021-02-01</th>\n",
       "      <td>Navarra</td>\n",
       "      <td>28145</td>\n",
       "      <td>26779</td>\n",
       "      <td>0.951466</td>\n",
       "      <td>6320</td>\n",
       "      <td>NC</td>\n",
       "    </tr>\n",
       "    <tr>\n",
       "      <th>2021-02-01</th>\n",
       "      <td>Madrid</td>\n",
       "      <td>232775</td>\n",
       "      <td>199495</td>\n",
       "      <td>0.857029</td>\n",
       "      <td>24312</td>\n",
       "      <td>MD</td>\n",
       "    </tr>\n",
       "    <tr>\n",
       "      <th>2021-02-01</th>\n",
       "      <td>Murcia</td>\n",
       "      <td>60425</td>\n",
       "      <td>60731</td>\n",
       "      <td>1.005064</td>\n",
       "      <td>12580</td>\n",
       "      <td>MC</td>\n",
       "    </tr>\n",
       "    <tr>\n",
       "      <th>2021-02-01</th>\n",
       "      <td>Aragón</td>\n",
       "      <td>56505</td>\n",
       "      <td>56482</td>\n",
       "      <td>0.999593</td>\n",
       "      <td>11119</td>\n",
       "      <td>AR</td>\n",
       "    </tr>\n",
       "    <tr>\n",
       "      <th>...</th>\n",
       "      <td>...</td>\n",
       "      <td>...</td>\n",
       "      <td>...</td>\n",
       "      <td>...</td>\n",
       "      <td>...</td>\n",
       "      <td>...</td>\n",
       "    </tr>\n",
       "    <tr>\n",
       "      <th>2021-11-04</th>\n",
       "      <td>País Vasco</td>\n",
       "      <td>3719130</td>\n",
       "      <td>3446182</td>\n",
       "      <td>0.926610</td>\n",
       "      <td>1783243</td>\n",
       "      <td>PV</td>\n",
       "    </tr>\n",
       "    <tr>\n",
       "      <th>2021-11-04</th>\n",
       "      <td>Ceuta</td>\n",
       "      <td>140015</td>\n",
       "      <td>117078</td>\n",
       "      <td>0.836182</td>\n",
       "      <td>60202</td>\n",
       "      <td>CE</td>\n",
       "    </tr>\n",
       "    <tr>\n",
       "      <th>2021-11-04</th>\n",
       "      <td>Melilla</td>\n",
       "      <td>141100</td>\n",
       "      <td>104405</td>\n",
       "      <td>0.739936</td>\n",
       "      <td>55293</td>\n",
       "      <td>ML</td>\n",
       "    </tr>\n",
       "    <tr>\n",
       "      <th>2021-11-04</th>\n",
       "      <td>La Rioja</td>\n",
       "      <td>557365</td>\n",
       "      <td>489113</td>\n",
       "      <td>0.877545</td>\n",
       "      <td>255489</td>\n",
       "      <td>RI</td>\n",
       "    </tr>\n",
       "    <tr>\n",
       "      <th>2021-11-04</th>\n",
       "      <td>Aragón</td>\n",
       "      <td>2112962</td>\n",
       "      <td>2024998</td>\n",
       "      <td>0.958369</td>\n",
       "      <td>1049330</td>\n",
       "      <td>AR</td>\n",
       "    </tr>\n",
       "  </tbody>\n",
       "</table>\n",
       "<p>4997 rows × 6 columns</p>\n",
       "</div>"
      ],
      "text/plain": [
       "             community  Total doses delivered  Doses administered  \\\n",
       "Date                                                                \n",
       "2021-02-01   Andalucía                 330980              313286   \n",
       "2021-02-01     Navarra                  28145               26779   \n",
       "2021-02-01      Madrid                 232775              199495   \n",
       "2021-02-01     Murcia                   60425               60731   \n",
       "2021-02-01      Aragón                  56505               56482   \n",
       "...                ...                    ...                 ...   \n",
       "2021-11-04  País Vasco                3719130             3446182   \n",
       "2021-11-04       Ceuta                 140015              117078   \n",
       "2021-11-04     Melilla                 141100              104405   \n",
       "2021-11-04    La Rioja                 557365              489113   \n",
       "2021-11-04      Aragón                2112962             2024998   \n",
       "\n",
       "            % over delivered  No. People vaccinated ccaa_iso  \n",
       "Date                                                          \n",
       "2021-02-01          0.946541                  90764       AN  \n",
       "2021-02-01          0.951466                   6320       NC  \n",
       "2021-02-01          0.857029                  24312       MD  \n",
       "2021-02-01          1.005064                  12580       MC  \n",
       "2021-02-01          0.999593                  11119       AR  \n",
       "...                      ...                    ...      ...  \n",
       "2021-11-04          0.926610                1783243       PV  \n",
       "2021-11-04          0.836182                  60202       CE  \n",
       "2021-11-04          0.739936                  55293       ML  \n",
       "2021-11-04          0.877545                 255489       RI  \n",
       "2021-11-04          0.958369                1049330       AR  \n",
       "\n",
       "[4997 rows x 6 columns]"
      ]
     },
     "execution_count": 6,
     "metadata": {},
     "output_type": "execute_result"
    }
   ],
   "source": [
    "#sorting dates and setting date column as index\n",
    "dataframe[\"Date\"] = pd.to_datetime(dataframe[\"Date\"])\n",
    "dataframe = dataframe.sort_values([\"Date\"]).set_index(\"Date\")\n",
    "dataframe"
   ]
  },
  {
   "cell_type": "code",
   "execution_count": 7,
   "id": "03c64b8d",
   "metadata": {
    "execution": {
     "iopub.execute_input": "2021-11-09T17:19:26.585439Z",
     "iopub.status.busy": "2021-11-09T17:19:26.584346Z",
     "iopub.status.idle": "2021-11-09T17:19:26.618218Z",
     "shell.execute_reply": "2021-11-09T17:19:26.620238Z"
    },
    "jupyter": {
     "source_hidden": true
    },
    "papermill": {
     "duration": 0.117482,
     "end_time": "2021-11-09T17:19:26.620777",
     "exception": false,
     "start_time": "2021-11-09T17:19:26.503295",
     "status": "completed"
    },
    "tags": []
   },
   "outputs": [],
   "source": [
    "def correct_dfs(dataframe, range_dates) : \n",
    "    \n",
    "    full_dataframe = dataframe.loc[\"2021-02-01\"]\n",
    "    \n",
    "    for date in range_dates : \n",
    "\n",
    "        short_dataframe = dataframe.loc[date.strftime(\"%Y-%m-%d\")].groupby(\"community\", as_index = False).max()\n",
    "        nn_ccaa = [ccaa for ccaa in full_dataframe[\"community\"].to_list() if ccaa not in short_dataframe[\"community\"].to_list()]\n",
    "        concat = pd.concat([short_dataframe, full_dataframe.loc[full_dataframe[\"community\"].isin(nn_ccaa)]])\n",
    "        concat.index = [date for i in range(len(concat.index.to_list()))]   \n",
    "        \n",
    "        dataframe = dataframe.loc[dataframe.index != date.strftime(\"%Y-%m-%d\")]\n",
    "        dataframe = dataframe.append(concat)\n",
    "        full_dataframe = concat\n",
    "        \n",
    "    return dataframe\n",
    "\n",
    "\n",
    "def unavailable_dates(df, dates):\n",
    "    #sorting dates :\n",
    "    dates_sorted = dates.sort()\n",
    "    \n",
    "    for date in dates : \n",
    "        print(\"We treating that date {date} ---\".format(date = date))\n",
    "        \n",
    "        day_before = date - datetime.timedelta(days=1)\n",
    "        \n",
    "        sub_df = df.loc[day_before.strftime(\"%Y-%m-%d\")].groupby(\"community\", as_index = False).max()\n",
    "        sub_df.index = [date for i in range(len(sub_df.index.to_list()))]\n",
    "        df = df.append(sub_df)\n",
    "        \n",
    "        \n",
    "    return df"
   ]
  },
  {
   "cell_type": "code",
   "execution_count": 8,
   "id": "ad71a274",
   "metadata": {
    "execution": {
     "iopub.execute_input": "2021-11-09T17:19:26.859368Z",
     "iopub.status.busy": "2021-11-09T17:19:26.854043Z",
     "iopub.status.idle": "2021-11-09T17:19:26.872304Z",
     "shell.execute_reply": "2021-11-09T17:19:26.880690Z"
    },
    "jupyter": {
     "source_hidden": true
    },
    "papermill": {
     "duration": 0.189505,
     "end_time": "2021-11-09T17:19:26.881767",
     "exception": false,
     "start_time": "2021-11-09T17:19:26.692262",
     "status": "completed"
    },
    "tags": []
   },
   "outputs": [],
   "source": [
    "test_range = [datetime.datetime(2021,1,15) + datetime.timedelta(days = i) for i in range(266)][18:]"
   ]
  },
  {
   "cell_type": "code",
   "execution_count": 9,
   "id": "94dcdfca",
   "metadata": {
    "execution": {
     "iopub.execute_input": "2021-11-09T17:19:26.996164Z",
     "iopub.status.busy": "2021-11-09T17:19:26.994993Z",
     "iopub.status.idle": "2021-11-09T17:19:39.710277Z",
     "shell.execute_reply": "2021-11-09T17:19:39.711814Z"
    },
    "jupyter": {
     "source_hidden": true
    },
    "papermill": {
     "duration": 12.775186,
     "end_time": "2021-11-09T17:19:39.712237",
     "exception": false,
     "start_time": "2021-11-09T17:19:26.937051",
     "status": "completed"
    },
    "tags": []
   },
   "outputs": [
    {
     "data": {
      "text/plain": [
       "[]"
      ]
     },
     "execution_count": 9,
     "metadata": {},
     "output_type": "execute_result"
    }
   ],
   "source": [
    "missing_dates = [date for date in test_range if date not in dataframe.index.to_list()]\n",
    "missing_dates"
   ]
  },
  {
   "cell_type": "code",
   "execution_count": 10,
   "id": "bfa8c02d",
   "metadata": {
    "execution": {
     "iopub.execute_input": "2021-11-09T17:19:39.778060Z",
     "iopub.status.busy": "2021-11-09T17:19:39.777079Z",
     "iopub.status.idle": "2021-11-09T17:19:39.783037Z",
     "shell.execute_reply": "2021-11-09T17:19:39.783883Z"
    },
    "jupyter": {
     "source_hidden": true
    },
    "papermill": {
     "duration": 0.042492,
     "end_time": "2021-11-09T17:19:39.784111",
     "exception": false,
     "start_time": "2021-11-09T17:19:39.741619",
     "status": "completed"
    },
    "tags": []
   },
   "outputs": [],
   "source": [
    "corrected_dates = unavailable_dates(dataframe, missing_dates)"
   ]
  },
  {
   "cell_type": "code",
   "execution_count": 11,
   "id": "f6e7880e",
   "metadata": {
    "execution": {
     "iopub.execute_input": "2021-11-09T17:19:39.850919Z",
     "iopub.status.busy": "2021-11-09T17:19:39.849891Z",
     "iopub.status.idle": "2021-11-09T17:19:39.894085Z",
     "shell.execute_reply": "2021-11-09T17:19:39.895984Z"
    },
    "jupyter": {
     "source_hidden": true
    },
    "papermill": {
     "duration": 0.083871,
     "end_time": "2021-11-09T17:19:39.896261",
     "exception": false,
     "start_time": "2021-11-09T17:19:39.812390",
     "status": "completed"
    },
    "tags": []
   },
   "outputs": [
    {
     "data": {
      "text/html": [
       "<div>\n",
       "<style scoped>\n",
       "    .dataframe tbody tr th:only-of-type {\n",
       "        vertical-align: middle;\n",
       "    }\n",
       "\n",
       "    .dataframe tbody tr th {\n",
       "        vertical-align: top;\n",
       "    }\n",
       "\n",
       "    .dataframe thead th {\n",
       "        text-align: right;\n",
       "    }\n",
       "</style>\n",
       "<table border=\"1\" class=\"dataframe\">\n",
       "  <thead>\n",
       "    <tr style=\"text-align: right;\">\n",
       "      <th></th>\n",
       "      <th>community</th>\n",
       "      <th>Total doses delivered</th>\n",
       "      <th>Doses administered</th>\n",
       "      <th>% over delivered</th>\n",
       "      <th>No. People vaccinated</th>\n",
       "      <th>ccaa_iso</th>\n",
       "    </tr>\n",
       "    <tr>\n",
       "      <th>Date</th>\n",
       "      <th></th>\n",
       "      <th></th>\n",
       "      <th></th>\n",
       "      <th></th>\n",
       "      <th></th>\n",
       "      <th></th>\n",
       "    </tr>\n",
       "  </thead>\n",
       "  <tbody>\n",
       "    <tr>\n",
       "      <th>2021-02-01</th>\n",
       "      <td>Andalucía</td>\n",
       "      <td>330980</td>\n",
       "      <td>313286</td>\n",
       "      <td>0.946541</td>\n",
       "      <td>90764</td>\n",
       "      <td>AN</td>\n",
       "    </tr>\n",
       "    <tr>\n",
       "      <th>2021-02-01</th>\n",
       "      <td>Navarra</td>\n",
       "      <td>28145</td>\n",
       "      <td>26779</td>\n",
       "      <td>0.951466</td>\n",
       "      <td>6320</td>\n",
       "      <td>NC</td>\n",
       "    </tr>\n",
       "    <tr>\n",
       "      <th>2021-02-01</th>\n",
       "      <td>Madrid</td>\n",
       "      <td>232775</td>\n",
       "      <td>199495</td>\n",
       "      <td>0.857029</td>\n",
       "      <td>24312</td>\n",
       "      <td>MD</td>\n",
       "    </tr>\n",
       "    <tr>\n",
       "      <th>2021-02-01</th>\n",
       "      <td>Murcia</td>\n",
       "      <td>60425</td>\n",
       "      <td>60731</td>\n",
       "      <td>1.005064</td>\n",
       "      <td>12580</td>\n",
       "      <td>MC</td>\n",
       "    </tr>\n",
       "    <tr>\n",
       "      <th>2021-02-01</th>\n",
       "      <td>Aragón</td>\n",
       "      <td>56505</td>\n",
       "      <td>56482</td>\n",
       "      <td>0.999593</td>\n",
       "      <td>11119</td>\n",
       "      <td>AR</td>\n",
       "    </tr>\n",
       "    <tr>\n",
       "      <th>...</th>\n",
       "      <td>...</td>\n",
       "      <td>...</td>\n",
       "      <td>...</td>\n",
       "      <td>...</td>\n",
       "      <td>...</td>\n",
       "      <td>...</td>\n",
       "    </tr>\n",
       "    <tr>\n",
       "      <th>2021-11-04</th>\n",
       "      <td>País Vasco</td>\n",
       "      <td>3719130</td>\n",
       "      <td>3446182</td>\n",
       "      <td>0.926610</td>\n",
       "      <td>1783243</td>\n",
       "      <td>PV</td>\n",
       "    </tr>\n",
       "    <tr>\n",
       "      <th>2021-11-04</th>\n",
       "      <td>Ceuta</td>\n",
       "      <td>140015</td>\n",
       "      <td>117078</td>\n",
       "      <td>0.836182</td>\n",
       "      <td>60202</td>\n",
       "      <td>CE</td>\n",
       "    </tr>\n",
       "    <tr>\n",
       "      <th>2021-11-04</th>\n",
       "      <td>Melilla</td>\n",
       "      <td>141100</td>\n",
       "      <td>104405</td>\n",
       "      <td>0.739936</td>\n",
       "      <td>55293</td>\n",
       "      <td>ML</td>\n",
       "    </tr>\n",
       "    <tr>\n",
       "      <th>2021-11-04</th>\n",
       "      <td>La Rioja</td>\n",
       "      <td>557365</td>\n",
       "      <td>489113</td>\n",
       "      <td>0.877545</td>\n",
       "      <td>255489</td>\n",
       "      <td>RI</td>\n",
       "    </tr>\n",
       "    <tr>\n",
       "      <th>2021-11-04</th>\n",
       "      <td>Aragón</td>\n",
       "      <td>2112962</td>\n",
       "      <td>2024998</td>\n",
       "      <td>0.958369</td>\n",
       "      <td>1049330</td>\n",
       "      <td>AR</td>\n",
       "    </tr>\n",
       "  </tbody>\n",
       "</table>\n",
       "<p>4997 rows × 6 columns</p>\n",
       "</div>"
      ],
      "text/plain": [
       "             community  Total doses delivered  Doses administered  \\\n",
       "Date                                                                \n",
       "2021-02-01   Andalucía                 330980              313286   \n",
       "2021-02-01     Navarra                  28145               26779   \n",
       "2021-02-01      Madrid                 232775              199495   \n",
       "2021-02-01     Murcia                   60425               60731   \n",
       "2021-02-01      Aragón                  56505               56482   \n",
       "...                ...                    ...                 ...   \n",
       "2021-11-04  País Vasco                3719130             3446182   \n",
       "2021-11-04       Ceuta                 140015              117078   \n",
       "2021-11-04     Melilla                 141100              104405   \n",
       "2021-11-04    La Rioja                 557365              489113   \n",
       "2021-11-04      Aragón                2112962             2024998   \n",
       "\n",
       "            % over delivered  No. People vaccinated ccaa_iso  \n",
       "Date                                                          \n",
       "2021-02-01          0.946541                  90764       AN  \n",
       "2021-02-01          0.951466                   6320       NC  \n",
       "2021-02-01          0.857029                  24312       MD  \n",
       "2021-02-01          1.005064                  12580       MC  \n",
       "2021-02-01          0.999593                  11119       AR  \n",
       "...                      ...                    ...      ...  \n",
       "2021-11-04          0.926610                1783243       PV  \n",
       "2021-11-04          0.836182                  60202       CE  \n",
       "2021-11-04          0.739936                  55293       ML  \n",
       "2021-11-04          0.877545                 255489       RI  \n",
       "2021-11-04          0.958369                1049330       AR  \n",
       "\n",
       "[4997 rows x 6 columns]"
      ]
     },
     "execution_count": 11,
     "metadata": {},
     "output_type": "execute_result"
    }
   ],
   "source": [
    "corrected_dates = corrected_dates.loc[\"2021-02-01\":].sort_index()\n",
    "corrected_dates"
   ]
  },
  {
   "cell_type": "code",
   "execution_count": 12,
   "id": "25c30a76",
   "metadata": {
    "execution": {
     "iopub.execute_input": "2021-11-09T17:19:39.965689Z",
     "iopub.status.busy": "2021-11-09T17:19:39.964753Z",
     "iopub.status.idle": "2021-11-09T17:19:49.870457Z",
     "shell.execute_reply": "2021-11-09T17:19:49.872074Z"
    },
    "jupyter": {
     "source_hidden": true
    },
    "papermill": {
     "duration": 9.94404,
     "end_time": "2021-11-09T17:19:49.872313",
     "exception": false,
     "start_time": "2021-11-09T17:19:39.928273",
     "status": "completed"
    },
    "tags": []
   },
   "outputs": [],
   "source": [
    "final = correct_dfs(corrected_dates, test_range).sort_index()"
   ]
  },
  {
   "cell_type": "code",
   "execution_count": 13,
   "id": "849b1abd",
   "metadata": {
    "execution": {
     "iopub.execute_input": "2021-11-09T17:19:49.945971Z",
     "iopub.status.busy": "2021-11-09T17:19:49.944846Z",
     "iopub.status.idle": "2021-11-09T17:19:49.990237Z",
     "shell.execute_reply": "2021-11-09T17:19:49.991629Z"
    },
    "jupyter": {
     "source_hidden": true
    },
    "papermill": {
     "duration": 0.087132,
     "end_time": "2021-11-09T17:19:49.991937",
     "exception": false,
     "start_time": "2021-11-09T17:19:49.904805",
     "status": "completed"
    },
    "tags": []
   },
   "outputs": [
    {
     "data": {
      "text/html": [
       "<div>\n",
       "<style scoped>\n",
       "    .dataframe tbody tr th:only-of-type {\n",
       "        vertical-align: middle;\n",
       "    }\n",
       "\n",
       "    .dataframe tbody tr th {\n",
       "        vertical-align: top;\n",
       "    }\n",
       "\n",
       "    .dataframe thead th {\n",
       "        text-align: right;\n",
       "    }\n",
       "</style>\n",
       "<table border=\"1\" class=\"dataframe\">\n",
       "  <thead>\n",
       "    <tr style=\"text-align: right;\">\n",
       "      <th></th>\n",
       "      <th>community</th>\n",
       "      <th>Total doses delivered</th>\n",
       "      <th>Doses administered</th>\n",
       "      <th>% over delivered</th>\n",
       "      <th>No. People vaccinated</th>\n",
       "      <th>ccaa_iso</th>\n",
       "    </tr>\n",
       "  </thead>\n",
       "  <tbody>\n",
       "    <tr>\n",
       "      <th>2021-02-01</th>\n",
       "      <td>Andalucía</td>\n",
       "      <td>330980</td>\n",
       "      <td>313286</td>\n",
       "      <td>0.946541</td>\n",
       "      <td>90764</td>\n",
       "      <td>AN</td>\n",
       "    </tr>\n",
       "    <tr>\n",
       "      <th>2021-02-01</th>\n",
       "      <td>Extremadura</td>\n",
       "      <td>51975</td>\n",
       "      <td>49703</td>\n",
       "      <td>0.956287</td>\n",
       "      <td>10776</td>\n",
       "      <td>EX</td>\n",
       "    </tr>\n",
       "    <tr>\n",
       "      <th>2021-02-01</th>\n",
       "      <td>C. Valenciana</td>\n",
       "      <td>145830</td>\n",
       "      <td>147945</td>\n",
       "      <td>1.014503</td>\n",
       "      <td>44979</td>\n",
       "      <td>VC</td>\n",
       "    </tr>\n",
       "    <tr>\n",
       "      <th>2021-02-01</th>\n",
       "      <td>Asturias</td>\n",
       "      <td>59435</td>\n",
       "      <td>58177</td>\n",
       "      <td>0.978834</td>\n",
       "      <td>19503</td>\n",
       "      <td>AS</td>\n",
       "    </tr>\n",
       "    <tr>\n",
       "      <th>2021-02-01</th>\n",
       "      <td>Castilla y Leon</td>\n",
       "      <td>123895</td>\n",
       "      <td>126362</td>\n",
       "      <td>1.019912</td>\n",
       "      <td>35051</td>\n",
       "      <td>CL</td>\n",
       "    </tr>\n",
       "    <tr>\n",
       "      <th>...</th>\n",
       "      <td>...</td>\n",
       "      <td>...</td>\n",
       "      <td>...</td>\n",
       "      <td>...</td>\n",
       "      <td>...</td>\n",
       "      <td>...</td>\n",
       "    </tr>\n",
       "    <tr>\n",
       "      <th>2021-11-04</th>\n",
       "      <td>Asturias</td>\n",
       "      <td>1706785</td>\n",
       "      <td>1713937</td>\n",
       "      <td>1.004190</td>\n",
       "      <td>865834</td>\n",
       "      <td>AS</td>\n",
       "    </tr>\n",
       "    <tr>\n",
       "      <th>2021-11-04</th>\n",
       "      <td>Andalucía</td>\n",
       "      <td>13766150</td>\n",
       "      <td>13199112</td>\n",
       "      <td>0.958809</td>\n",
       "      <td>6749391</td>\n",
       "      <td>AN</td>\n",
       "    </tr>\n",
       "    <tr>\n",
       "      <th>2021-11-04</th>\n",
       "      <td>Aragón</td>\n",
       "      <td>2112962</td>\n",
       "      <td>2024998</td>\n",
       "      <td>0.958369</td>\n",
       "      <td>1049330</td>\n",
       "      <td>AR</td>\n",
       "    </tr>\n",
       "    <tr>\n",
       "      <th>2021-11-04</th>\n",
       "      <td>C. Valenciana</td>\n",
       "      <td>8088540</td>\n",
       "      <td>7807732</td>\n",
       "      <td>0.965283</td>\n",
       "      <td>4014538</td>\n",
       "      <td>VC</td>\n",
       "    </tr>\n",
       "    <tr>\n",
       "      <th>2021-11-04</th>\n",
       "      <td>La Rioja</td>\n",
       "      <td>557365</td>\n",
       "      <td>489113</td>\n",
       "      <td>0.877545</td>\n",
       "      <td>255489</td>\n",
       "      <td>RI</td>\n",
       "    </tr>\n",
       "  </tbody>\n",
       "</table>\n",
       "<p>4978 rows × 6 columns</p>\n",
       "</div>"
      ],
      "text/plain": [
       "                   community  Total doses delivered  Doses administered  \\\n",
       "2021-02-01         Andalucía                 330980              313286   \n",
       "2021-02-01       Extremadura                  51975               49703   \n",
       "2021-02-01     C. Valenciana                 145830              147945   \n",
       "2021-02-01         Asturias                   59435               58177   \n",
       "2021-02-01  Castilla y Leon                  123895              126362   \n",
       "...                      ...                    ...                 ...   \n",
       "2021-11-04         Asturias                 1706785             1713937   \n",
       "2021-11-04         Andalucía               13766150            13199112   \n",
       "2021-11-04            Aragón                2112962             2024998   \n",
       "2021-11-04     C. Valenciana                8088540             7807732   \n",
       "2021-11-04          La Rioja                 557365              489113   \n",
       "\n",
       "            % over delivered  No. People vaccinated ccaa_iso  \n",
       "2021-02-01          0.946541                  90764       AN  \n",
       "2021-02-01          0.956287                  10776       EX  \n",
       "2021-02-01          1.014503                  44979       VC  \n",
       "2021-02-01          0.978834                  19503       AS  \n",
       "2021-02-01          1.019912                  35051       CL  \n",
       "...                      ...                    ...      ...  \n",
       "2021-11-04          1.004190                 865834       AS  \n",
       "2021-11-04          0.958809                6749391       AN  \n",
       "2021-11-04          0.958369                1049330       AR  \n",
       "2021-11-04          0.965283                4014538       VC  \n",
       "2021-11-04          0.877545                 255489       RI  \n",
       "\n",
       "[4978 rows x 6 columns]"
      ]
     },
     "execution_count": 13,
     "metadata": {},
     "output_type": "execute_result"
    }
   ],
   "source": [
    "final"
   ]
  },
  {
   "cell_type": "code",
   "execution_count": 14,
   "id": "126f91db",
   "metadata": {
    "execution": {
     "iopub.execute_input": "2021-11-09T17:19:50.072122Z",
     "iopub.status.busy": "2021-11-09T17:19:50.066733Z",
     "iopub.status.idle": "2021-11-09T17:19:50.075707Z",
     "shell.execute_reply": "2021-11-09T17:19:50.074853Z"
    },
    "jupyter": {
     "source_hidden": true
    },
    "papermill": {
     "duration": 0.045902,
     "end_time": "2021-11-09T17:19:50.075936",
     "exception": false,
     "start_time": "2021-11-09T17:19:50.030034",
     "status": "completed"
    },
    "tags": []
   },
   "outputs": [
    {
     "name": "stdout",
     "output_type": "stream",
     "text": [
      "Error !\n"
     ]
    }
   ],
   "source": [
    "#getting data\n",
    "try :\n",
    "    final.to_sql(con=engine(), name='vaccins', if_exists='replace')\n",
    "except : \n",
    "    print(\"Error !\")\n"
   ]
  }
 ],
 "metadata": {
  "kernelspec": {
   "display_name": "Python 3",
   "language": "python",
   "name": "python3"
  },
  "language_info": {
   "codemirror_mode": {
    "name": "ipython",
    "version": 3
   },
   "file_extension": ".py",
   "mimetype": "text/x-python",
   "name": "python",
   "nbconvert_exporter": "python",
   "pygments_lexer": "ipython3",
   "version": "3.7.5"
  },
  "papermill": {
   "default_parameters": {},
   "duration": 34.123017,
   "end_time": "2021-11-09T17:19:50.731735",
   "environment_variables": {},
   "exception": null,
   "input_path": "/home/kali/COVID-19-ES/airflow/process/update.ipynb",
   "output_path": "/home/kali/COVID-19-ES/airflow/process/outs/out-update2021-11-09T17:18:37.539830+00:00.ipynb",
   "parameters": {
    "msgs": "Ran from Airflow at 2021-11-09T17:18:37.539830+00:00!"
   },
   "start_time": "2021-11-09T17:19:16.608718",
   "version": "2.3.3"
  }
 },
 "nbformat": 4,
 "nbformat_minor": 5
}