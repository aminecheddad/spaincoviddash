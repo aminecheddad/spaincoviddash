{
 "cells": [
  {
   "cell_type": "code",
   "execution_count": 1,
   "id": "5784a54f",
   "metadata": {
    "execution": {
     "iopub.execute_input": "2021-11-09T17:15:45.444343Z",
     "iopub.status.busy": "2021-11-09T17:15:45.438599Z",
     "iopub.status.idle": "2021-11-09T17:15:45.463828Z",
     "shell.execute_reply": "2021-11-09T17:15:45.465379Z"
    },
    "jupyter": {
     "source_hidden": true
    },
    "papermill": {
     "duration": 0.08654,
     "end_time": "2021-11-09T17:15:45.465786",
     "exception": false,
     "start_time": "2021-11-09T17:15:45.379246",
     "status": "completed"
    },
    "tags": [
     "injected-parameters"
    ]
   },
   "outputs": [],
   "source": [
    "# Parameters\n",
    "msgs = \"Ran from Airflow at 2021-11-09T17:15:02.338038+00:00!\"\n"
   ]
  },
  {
   "cell_type": "code",
   "execution_count": 2,
   "id": "25cb325f",
   "metadata": {
    "execution": {
     "iopub.execute_input": "2021-11-09T17:15:45.533356Z",
     "iopub.status.busy": "2021-11-09T17:15:45.532258Z",
     "iopub.status.idle": "2021-11-09T17:15:46.346473Z",
     "shell.execute_reply": "2021-11-09T17:15:46.347912Z"
    },
    "jupyter": {
     "source_hidden": true
    },
    "papermill": {
     "duration": 0.850951,
     "end_time": "2021-11-09T17:15:46.348142",
     "exception": false,
     "start_time": "2021-11-09T17:15:45.497191",
     "status": "completed"
    },
    "tags": []
   },
   "outputs": [],
   "source": [
    "import requests\n",
    "import time\n",
    "import datetime\n",
    "import pandas as pd\n",
    "import io\n",
    "import mysql.connector\n",
    "from sqlalchemy import exc\n",
    "import sqlalchemy\n",
    "pd.options.display.max_rows = 150"
   ]
  },
  {
   "cell_type": "code",
   "execution_count": 3,
   "id": "7923c7b3",
   "metadata": {
    "execution": {
     "iopub.execute_input": "2021-11-09T17:15:46.447948Z",
     "iopub.status.busy": "2021-11-09T17:15:46.437149Z",
     "iopub.status.idle": "2021-11-09T17:15:46.456207Z",
     "shell.execute_reply": "2021-11-09T17:15:46.457466Z"
    },
    "jupyter": {
     "source_hidden": true
    },
    "papermill": {
     "duration": 0.079445,
     "end_time": "2021-11-09T17:15:46.457688",
     "exception": false,
     "start_time": "2021-11-09T17:15:46.378243",
     "status": "completed"
    },
    "tags": []
   },
   "outputs": [],
   "source": [
    "def c_engine(host, username, pwd, db_name, attempts = 3) :\n",
    "    try : \n",
    "        engine = sqlalchemy.create_engine('mysql+mysqlconnector://{user}:{password}@{host}/{database}'.format(\n",
    "            user = username,\n",
    "            password = pwd, \n",
    "            host = host,\n",
    "            database = db_name))\n",
    "        return engine\n",
    "    \n",
    "    except exc.SQLAlchemyError as error:\n",
    "        if attempts>0:\n",
    "            print(\"An error has occured \", error)\n",
    "            time.sleep(30)\n",
    "            c_engine(host, username, pwd, db_name, attempts-1)\n",
    "    return False\n",
    "\n",
    "def select_data(engine, table_name) : \n",
    "    try:\n",
    "        sql_query = pd.read_sql_query(\n",
    "            '''SELECT * FROM {table}'''.format(table = table_name), engine)\n",
    "        dataframe = pd.DataFrame(sql_query)\n",
    "        if dataframe.empty : \n",
    "            return False, None\n",
    "        else : \n",
    "            return True, dataframe\n",
    "    except exc.SQLAlchemyError as error:\n",
    "        print(\"An error has occured\", error)\n",
    "        return False, None"
   ]
  },
  {
   "cell_type": "code",
   "execution_count": 4,
   "id": "9389c1d6",
   "metadata": {
    "execution": {
     "iopub.execute_input": "2021-11-09T17:15:46.522748Z",
     "iopub.status.busy": "2021-11-09T17:15:46.521334Z",
     "iopub.status.idle": "2021-11-09T17:15:52.908985Z",
     "shell.execute_reply": "2021-11-09T17:15:52.910359Z"
    },
    "jupyter": {
     "source_hidden": true
    },
    "papermill": {
     "duration": 6.425896,
     "end_time": "2021-11-09T17:15:52.910595",
     "exception": false,
     "start_time": "2021-11-09T17:15:46.484699",
     "status": "completed"
    },
    "tags": []
   },
   "outputs": [],
   "source": [
    "#getting data\n",
    "engine = c_engine(\"cvp19.mysql.database.azure.com\", \"u5487210@cvp19\", \"jRG2XXi4CwjHvAa\", \"my_db\")\n",
    "_, dataframe = select_data(engine, 'vaccins')"
   ]
  },
  {
   "cell_type": "code",
   "execution_count": 5,
   "id": "cca13b2c",
   "metadata": {
    "execution": {
     "iopub.execute_input": "2021-11-09T17:15:52.973148Z",
     "iopub.status.busy": "2021-11-09T17:15:52.972168Z",
     "iopub.status.idle": "2021-11-09T17:15:52.994495Z",
     "shell.execute_reply": "2021-11-09T17:15:52.996166Z"
    },
    "jupyter": {
     "source_hidden": true
    },
    "papermill": {
     "duration": 0.059003,
     "end_time": "2021-11-09T17:15:52.996548",
     "exception": false,
     "start_time": "2021-11-09T17:15:52.937545",
     "status": "completed"
    },
    "tags": []
   },
   "outputs": [
    {
     "data": {
      "text/plain": [
       "Date                      object\n",
       "community                 object\n",
       "Total doses delivered      int64\n",
       "Doses administered         int64\n",
       "% over delivered         float64\n",
       "No. People vaccinated      int64\n",
       "ccaa_iso                  object\n",
       "dtype: object"
      ]
     },
     "execution_count": 5,
     "metadata": {},
     "output_type": "execute_result"
    }
   ],
   "source": [
    "dataframe.dtypes"
   ]
  },
  {
   "cell_type": "code",
   "execution_count": 6,
   "id": "0fe70119",
   "metadata": {
    "execution": {
     "iopub.execute_input": "2021-11-09T17:15:53.061016Z",
     "iopub.status.busy": "2021-11-09T17:15:53.060036Z",
     "iopub.status.idle": "2021-11-09T17:15:53.107223Z",
     "shell.execute_reply": "2021-11-09T17:15:53.108717Z"
    },
    "jupyter": {
     "source_hidden": true
    },
    "papermill": {
     "duration": 0.085174,
     "end_time": "2021-11-09T17:15:53.108953",
     "exception": false,
     "start_time": "2021-11-09T17:15:53.023779",
     "status": "completed"
    },
    "tags": []
   },
   "outputs": [
    {
     "data": {
      "text/html": [
       "<div>\n",
       "<style scoped>\n",
       "    .dataframe tbody tr th:only-of-type {\n",
       "        vertical-align: middle;\n",
       "    }\n",
       "\n",
       "    .dataframe tbody tr th {\n",
       "        vertical-align: top;\n",
       "    }\n",
       "\n",
       "    .dataframe thead th {\n",
       "        text-align: right;\n",
       "    }\n",
       "</style>\n",
       "<table border=\"1\" class=\"dataframe\">\n",
       "  <thead>\n",
       "    <tr style=\"text-align: right;\">\n",
       "      <th></th>\n",
       "      <th>community</th>\n",
       "      <th>Total doses delivered</th>\n",
       "      <th>Doses administered</th>\n",
       "      <th>% over delivered</th>\n",
       "      <th>No. People vaccinated</th>\n",
       "      <th>ccaa_iso</th>\n",
       "    </tr>\n",
       "    <tr>\n",
       "      <th>Date</th>\n",
       "      <th></th>\n",
       "      <th></th>\n",
       "      <th></th>\n",
       "      <th></th>\n",
       "      <th></th>\n",
       "      <th></th>\n",
       "    </tr>\n",
       "  </thead>\n",
       "  <tbody>\n",
       "    <tr>\n",
       "      <th>2021-02-01</th>\n",
       "      <td>Andalucía</td>\n",
       "      <td>330980</td>\n",
       "      <td>313286</td>\n",
       "      <td>0.946541</td>\n",
       "      <td>90764</td>\n",
       "      <td>AN</td>\n",
       "    </tr>\n",
       "    <tr>\n",
       "      <th>2021-02-01</th>\n",
       "      <td>Navarra</td>\n",
       "      <td>28145</td>\n",
       "      <td>26779</td>\n",
       "      <td>0.951466</td>\n",
       "      <td>6320</td>\n",
       "      <td>NC</td>\n",
       "    </tr>\n",
       "    <tr>\n",
       "      <th>2021-02-01</th>\n",
       "      <td>Madrid</td>\n",
       "      <td>232775</td>\n",
       "      <td>199495</td>\n",
       "      <td>0.857029</td>\n",
       "      <td>24312</td>\n",
       "      <td>MD</td>\n",
       "    </tr>\n",
       "    <tr>\n",
       "      <th>2021-02-01</th>\n",
       "      <td>Murcia</td>\n",
       "      <td>60425</td>\n",
       "      <td>60731</td>\n",
       "      <td>1.005064</td>\n",
       "      <td>12580</td>\n",
       "      <td>MC</td>\n",
       "    </tr>\n",
       "    <tr>\n",
       "      <th>2021-02-01</th>\n",
       "      <td>Aragón</td>\n",
       "      <td>56505</td>\n",
       "      <td>56482</td>\n",
       "      <td>0.999593</td>\n",
       "      <td>11119</td>\n",
       "      <td>AR</td>\n",
       "    </tr>\n",
       "    <tr>\n",
       "      <th>...</th>\n",
       "      <td>...</td>\n",
       "      <td>...</td>\n",
       "      <td>...</td>\n",
       "      <td>...</td>\n",
       "      <td>...</td>\n",
       "      <td>...</td>\n",
       "    </tr>\n",
       "    <tr>\n",
       "      <th>2021-11-04</th>\n",
       "      <td>Asturias</td>\n",
       "      <td>1706785</td>\n",
       "      <td>1713937</td>\n",
       "      <td>1.004190</td>\n",
       "      <td>865834</td>\n",
       "      <td>AS</td>\n",
       "    </tr>\n",
       "    <tr>\n",
       "      <th>2021-11-04</th>\n",
       "      <td>Baleares</td>\n",
       "      <td>1938050</td>\n",
       "      <td>1614465</td>\n",
       "      <td>0.833036</td>\n",
       "      <td>843260</td>\n",
       "      <td>IB</td>\n",
       "    </tr>\n",
       "    <tr>\n",
       "      <th>2021-11-04</th>\n",
       "      <td>Cataluña</td>\n",
       "      <td>11863410</td>\n",
       "      <td>11316643</td>\n",
       "      <td>0.953911</td>\n",
       "      <td>5859937</td>\n",
       "      <td>CT</td>\n",
       "    </tr>\n",
       "    <tr>\n",
       "      <th>2021-11-04</th>\n",
       "      <td>Castilla La Mancha</td>\n",
       "      <td>3268780</td>\n",
       "      <td>3068295</td>\n",
       "      <td>0.938667</td>\n",
       "      <td>1563453</td>\n",
       "      <td>CM</td>\n",
       "    </tr>\n",
       "    <tr>\n",
       "      <th>2021-11-04</th>\n",
       "      <td>Canarias</td>\n",
       "      <td>3567300</td>\n",
       "      <td>3182635</td>\n",
       "      <td>0.892169</td>\n",
       "      <td>1642347</td>\n",
       "      <td>CN</td>\n",
       "    </tr>\n",
       "  </tbody>\n",
       "</table>\n",
       "<p>4940 rows × 6 columns</p>\n",
       "</div>"
      ],
      "text/plain": [
       "                     community  Total doses delivered  Doses administered  \\\n",
       "Date                                                                        \n",
       "2021-02-01           Andalucía                 330980              313286   \n",
       "2021-02-01             Navarra                  28145               26779   \n",
       "2021-02-01              Madrid                 232775              199495   \n",
       "2021-02-01             Murcia                   60425               60731   \n",
       "2021-02-01              Aragón                  56505               56482   \n",
       "...                        ...                    ...                 ...   \n",
       "2021-11-04           Asturias                 1706785             1713937   \n",
       "2021-11-04            Baleares                1938050             1614465   \n",
       "2021-11-04            Cataluña               11863410            11316643   \n",
       "2021-11-04  Castilla La Mancha                3268780             3068295   \n",
       "2021-11-04            Canarias                3567300             3182635   \n",
       "\n",
       "            % over delivered  No. People vaccinated ccaa_iso  \n",
       "Date                                                          \n",
       "2021-02-01          0.946541                  90764       AN  \n",
       "2021-02-01          0.951466                   6320       NC  \n",
       "2021-02-01          0.857029                  24312       MD  \n",
       "2021-02-01          1.005064                  12580       MC  \n",
       "2021-02-01          0.999593                  11119       AR  \n",
       "...                      ...                    ...      ...  \n",
       "2021-11-04          1.004190                 865834       AS  \n",
       "2021-11-04          0.833036                 843260       IB  \n",
       "2021-11-04          0.953911                5859937       CT  \n",
       "2021-11-04          0.938667                1563453       CM  \n",
       "2021-11-04          0.892169                1642347       CN  \n",
       "\n",
       "[4940 rows x 6 columns]"
      ]
     },
     "execution_count": 6,
     "metadata": {},
     "output_type": "execute_result"
    }
   ],
   "source": [
    "#sorting dates and setting date column as index\n",
    "dataframe[\"Date\"] = pd.to_datetime(dataframe[\"Date\"])\n",
    "dataframe = dataframe.sort_values([\"Date\"]).set_index(\"Date\")\n",
    "dataframe"
   ]
  },
  {
   "cell_type": "code",
   "execution_count": 7,
   "id": "03c64b8d",
   "metadata": {
    "execution": {
     "iopub.execute_input": "2021-11-09T17:15:53.202406Z",
     "iopub.status.busy": "2021-11-09T17:15:53.200899Z",
     "iopub.status.idle": "2021-11-09T17:15:53.227265Z",
     "shell.execute_reply": "2021-11-09T17:15:53.228811Z"
    },
    "jupyter": {
     "source_hidden": true
    },
    "papermill": {
     "duration": 0.084021,
     "end_time": "2021-11-09T17:15:53.229270",
     "exception": false,
     "start_time": "2021-11-09T17:15:53.145249",
     "status": "completed"
    },
    "tags": []
   },
   "outputs": [],
   "source": [
    "def correct_dfs(dataframe, range_dates) : \n",
    "    \n",
    "    full_dataframe = dataframe.loc[\"2021-02-01\"]\n",
    "    \n",
    "    for date in range_dates : \n",
    "\n",
    "        short_dataframe = dataframe.loc[date.strftime(\"%Y-%m-%d\")].groupby(\"community\", as_index = False).max()\n",
    "        nn_ccaa = [ccaa for ccaa in full_dataframe[\"community\"].to_list() if ccaa not in short_dataframe[\"community\"].to_list()]\n",
    "        concat = pd.concat([short_dataframe, full_dataframe.loc[full_dataframe[\"community\"].isin(nn_ccaa)]])\n",
    "        concat.index = [date for i in range(len(concat.index.to_list()))]   \n",
    "        \n",
    "        dataframe = dataframe.loc[dataframe.index != date.strftime(\"%Y-%m-%d\")]\n",
    "        dataframe = dataframe.append(concat)\n",
    "        full_dataframe = concat\n",
    "        \n",
    "    return dataframe\n",
    "\n",
    "\n",
    "def unavailable_dates(df, dates):\n",
    "    #sorting dates :\n",
    "    dates_sorted = dates.sort()\n",
    "    \n",
    "    for date in dates : \n",
    "        print(\"We treating that date {date} ---\".format(date = date))\n",
    "        \n",
    "        day_before = date - datetime.timedelta(days=1)\n",
    "        \n",
    "        sub_df = df.loc[day_before.strftime(\"%Y-%m-%d\")].groupby(\"community\", as_index = False).max()\n",
    "        sub_df.index = [date for i in range(len(sub_df.index.to_list()))]\n",
    "        df = df.append(sub_df)\n",
    "        \n",
    "        \n",
    "    return df"
   ]
  },
  {
   "cell_type": "code",
   "execution_count": 8,
   "id": "ad71a274",
   "metadata": {
    "execution": {
     "iopub.execute_input": "2021-11-09T17:15:53.301380Z",
     "iopub.status.busy": "2021-11-09T17:15:53.300231Z",
     "iopub.status.idle": "2021-11-09T17:15:53.308599Z",
     "shell.execute_reply": "2021-11-09T17:15:53.310480Z"
    },
    "jupyter": {
     "source_hidden": true
    },
    "papermill": {
     "duration": 0.045472,
     "end_time": "2021-11-09T17:15:53.310750",
     "exception": false,
     "start_time": "2021-11-09T17:15:53.265278",
     "status": "completed"
    },
    "tags": []
   },
   "outputs": [],
   "source": [
    "test_range = [datetime.datetime(2021,1,15) + datetime.timedelta(days = i) for i in range(266)][18:]"
   ]
  },
  {
   "cell_type": "code",
   "execution_count": 9,
   "id": "94dcdfca",
   "metadata": {
    "execution": {
     "iopub.execute_input": "2021-11-09T17:15:53.377401Z",
     "iopub.status.busy": "2021-11-09T17:15:53.376293Z",
     "iopub.status.idle": "2021-11-09T17:15:58.787558Z",
     "shell.execute_reply": "2021-11-09T17:15:58.789106Z"
    },
    "jupyter": {
     "source_hidden": true
    },
    "papermill": {
     "duration": 5.450107,
     "end_time": "2021-11-09T17:15:58.789376",
     "exception": false,
     "start_time": "2021-11-09T17:15:53.339269",
     "status": "completed"
    },
    "tags": []
   },
   "outputs": [
    {
     "data": {
      "text/plain": [
       "[]"
      ]
     },
     "execution_count": 9,
     "metadata": {},
     "output_type": "execute_result"
    }
   ],
   "source": [
    "missing_dates = [date for date in test_range if date not in dataframe.index.to_list()]\n",
    "missing_dates"
   ]
  },
  {
   "cell_type": "code",
   "execution_count": 10,
   "id": "bfa8c02d",
   "metadata": {
    "execution": {
     "iopub.execute_input": "2021-11-09T17:15:58.880259Z",
     "iopub.status.busy": "2021-11-09T17:15:58.873302Z",
     "iopub.status.idle": "2021-11-09T17:15:58.882098Z",
     "shell.execute_reply": "2021-11-09T17:15:58.883658Z"
    },
    "jupyter": {
     "source_hidden": true
    },
    "papermill": {
     "duration": 0.052529,
     "end_time": "2021-11-09T17:15:58.884001",
     "exception": false,
     "start_time": "2021-11-09T17:15:58.831472",
     "status": "completed"
    },
    "tags": []
   },
   "outputs": [],
   "source": [
    "corrected_dates = unavailable_dates(dataframe, missing_dates)"
   ]
  },
  {
   "cell_type": "code",
   "execution_count": 11,
   "id": "f6e7880e",
   "metadata": {
    "execution": {
     "iopub.execute_input": "2021-11-09T17:15:58.952927Z",
     "iopub.status.busy": "2021-11-09T17:15:58.951387Z",
     "iopub.status.idle": "2021-11-09T17:15:58.988599Z",
     "shell.execute_reply": "2021-11-09T17:15:58.990085Z"
    },
    "jupyter": {
     "source_hidden": true
    },
    "papermill": {
     "duration": 0.077055,
     "end_time": "2021-11-09T17:15:58.990320",
     "exception": false,
     "start_time": "2021-11-09T17:15:58.913265",
     "status": "completed"
    },
    "tags": []
   },
   "outputs": [
    {
     "data": {
      "text/html": [
       "<div>\n",
       "<style scoped>\n",
       "    .dataframe tbody tr th:only-of-type {\n",
       "        vertical-align: middle;\n",
       "    }\n",
       "\n",
       "    .dataframe tbody tr th {\n",
       "        vertical-align: top;\n",
       "    }\n",
       "\n",
       "    .dataframe thead th {\n",
       "        text-align: right;\n",
       "    }\n",
       "</style>\n",
       "<table border=\"1\" class=\"dataframe\">\n",
       "  <thead>\n",
       "    <tr style=\"text-align: right;\">\n",
       "      <th></th>\n",
       "      <th>community</th>\n",
       "      <th>Total doses delivered</th>\n",
       "      <th>Doses administered</th>\n",
       "      <th>% over delivered</th>\n",
       "      <th>No. People vaccinated</th>\n",
       "      <th>ccaa_iso</th>\n",
       "    </tr>\n",
       "    <tr>\n",
       "      <th>Date</th>\n",
       "      <th></th>\n",
       "      <th></th>\n",
       "      <th></th>\n",
       "      <th></th>\n",
       "      <th></th>\n",
       "      <th></th>\n",
       "    </tr>\n",
       "  </thead>\n",
       "  <tbody>\n",
       "    <tr>\n",
       "      <th>2021-02-01</th>\n",
       "      <td>Andalucía</td>\n",
       "      <td>330980</td>\n",
       "      <td>313286</td>\n",
       "      <td>0.946541</td>\n",
       "      <td>90764</td>\n",
       "      <td>AN</td>\n",
       "    </tr>\n",
       "    <tr>\n",
       "      <th>2021-02-01</th>\n",
       "      <td>Navarra</td>\n",
       "      <td>28145</td>\n",
       "      <td>26779</td>\n",
       "      <td>0.951466</td>\n",
       "      <td>6320</td>\n",
       "      <td>NC</td>\n",
       "    </tr>\n",
       "    <tr>\n",
       "      <th>2021-02-01</th>\n",
       "      <td>Madrid</td>\n",
       "      <td>232775</td>\n",
       "      <td>199495</td>\n",
       "      <td>0.857029</td>\n",
       "      <td>24312</td>\n",
       "      <td>MD</td>\n",
       "    </tr>\n",
       "    <tr>\n",
       "      <th>2021-02-01</th>\n",
       "      <td>Murcia</td>\n",
       "      <td>60425</td>\n",
       "      <td>60731</td>\n",
       "      <td>1.005064</td>\n",
       "      <td>12580</td>\n",
       "      <td>MC</td>\n",
       "    </tr>\n",
       "    <tr>\n",
       "      <th>2021-02-01</th>\n",
       "      <td>Aragón</td>\n",
       "      <td>56505</td>\n",
       "      <td>56482</td>\n",
       "      <td>0.999593</td>\n",
       "      <td>11119</td>\n",
       "      <td>AR</td>\n",
       "    </tr>\n",
       "    <tr>\n",
       "      <th>...</th>\n",
       "      <td>...</td>\n",
       "      <td>...</td>\n",
       "      <td>...</td>\n",
       "      <td>...</td>\n",
       "      <td>...</td>\n",
       "      <td>...</td>\n",
       "    </tr>\n",
       "    <tr>\n",
       "      <th>2021-11-04</th>\n",
       "      <td>Asturias</td>\n",
       "      <td>1706785</td>\n",
       "      <td>1713937</td>\n",
       "      <td>1.004190</td>\n",
       "      <td>865834</td>\n",
       "      <td>AS</td>\n",
       "    </tr>\n",
       "    <tr>\n",
       "      <th>2021-11-04</th>\n",
       "      <td>Baleares</td>\n",
       "      <td>1938050</td>\n",
       "      <td>1614465</td>\n",
       "      <td>0.833036</td>\n",
       "      <td>843260</td>\n",
       "      <td>IB</td>\n",
       "    </tr>\n",
       "    <tr>\n",
       "      <th>2021-11-04</th>\n",
       "      <td>Cataluña</td>\n",
       "      <td>11863410</td>\n",
       "      <td>11316643</td>\n",
       "      <td>0.953911</td>\n",
       "      <td>5859937</td>\n",
       "      <td>CT</td>\n",
       "    </tr>\n",
       "    <tr>\n",
       "      <th>2021-11-04</th>\n",
       "      <td>Castilla La Mancha</td>\n",
       "      <td>3268780</td>\n",
       "      <td>3068295</td>\n",
       "      <td>0.938667</td>\n",
       "      <td>1563453</td>\n",
       "      <td>CM</td>\n",
       "    </tr>\n",
       "    <tr>\n",
       "      <th>2021-11-04</th>\n",
       "      <td>Canarias</td>\n",
       "      <td>3567300</td>\n",
       "      <td>3182635</td>\n",
       "      <td>0.892169</td>\n",
       "      <td>1642347</td>\n",
       "      <td>CN</td>\n",
       "    </tr>\n",
       "  </tbody>\n",
       "</table>\n",
       "<p>4940 rows × 6 columns</p>\n",
       "</div>"
      ],
      "text/plain": [
       "                     community  Total doses delivered  Doses administered  \\\n",
       "Date                                                                        \n",
       "2021-02-01           Andalucía                 330980              313286   \n",
       "2021-02-01             Navarra                  28145               26779   \n",
       "2021-02-01              Madrid                 232775              199495   \n",
       "2021-02-01             Murcia                   60425               60731   \n",
       "2021-02-01              Aragón                  56505               56482   \n",
       "...                        ...                    ...                 ...   \n",
       "2021-11-04           Asturias                 1706785             1713937   \n",
       "2021-11-04            Baleares                1938050             1614465   \n",
       "2021-11-04            Cataluña               11863410            11316643   \n",
       "2021-11-04  Castilla La Mancha                3268780             3068295   \n",
       "2021-11-04            Canarias                3567300             3182635   \n",
       "\n",
       "            % over delivered  No. People vaccinated ccaa_iso  \n",
       "Date                                                          \n",
       "2021-02-01          0.946541                  90764       AN  \n",
       "2021-02-01          0.951466                   6320       NC  \n",
       "2021-02-01          0.857029                  24312       MD  \n",
       "2021-02-01          1.005064                  12580       MC  \n",
       "2021-02-01          0.999593                  11119       AR  \n",
       "...                      ...                    ...      ...  \n",
       "2021-11-04          1.004190                 865834       AS  \n",
       "2021-11-04          0.833036                 843260       IB  \n",
       "2021-11-04          0.953911                5859937       CT  \n",
       "2021-11-04          0.938667                1563453       CM  \n",
       "2021-11-04          0.892169                1642347       CN  \n",
       "\n",
       "[4940 rows x 6 columns]"
      ]
     },
     "execution_count": 11,
     "metadata": {},
     "output_type": "execute_result"
    }
   ],
   "source": [
    "corrected_dates = corrected_dates.loc[\"2021-02-01\":].sort_index()\n",
    "corrected_dates"
   ]
  },
  {
   "cell_type": "code",
   "execution_count": 12,
   "id": "25c30a76",
   "metadata": {
    "execution": {
     "iopub.execute_input": "2021-11-09T17:15:59.057651Z",
     "iopub.status.busy": "2021-11-09T17:15:59.056677Z",
     "iopub.status.idle": "2021-11-09T17:16:07.483058Z",
     "shell.execute_reply": "2021-11-09T17:16:07.484429Z"
    },
    "jupyter": {
     "source_hidden": true
    },
    "papermill": {
     "duration": 8.46412,
     "end_time": "2021-11-09T17:16:07.484660",
     "exception": false,
     "start_time": "2021-11-09T17:15:59.020540",
     "status": "completed"
    },
    "tags": []
   },
   "outputs": [],
   "source": [
    "final = correct_dfs(corrected_dates, test_range).sort_index()"
   ]
  },
  {
   "cell_type": "code",
   "execution_count": 13,
   "id": "849b1abd",
   "metadata": {
    "execution": {
     "iopub.execute_input": "2021-11-09T17:16:07.554646Z",
     "iopub.status.busy": "2021-11-09T17:16:07.552881Z",
     "iopub.status.idle": "2021-11-09T17:16:07.585053Z",
     "shell.execute_reply": "2021-11-09T17:16:07.586944Z"
    },
    "jupyter": {
     "source_hidden": true
    },
    "papermill": {
     "duration": 0.072841,
     "end_time": "2021-11-09T17:16:07.587209",
     "exception": false,
     "start_time": "2021-11-09T17:16:07.514368",
     "status": "completed"
    },
    "tags": []
   },
   "outputs": [
    {
     "data": {
      "text/html": [
       "<div>\n",
       "<style scoped>\n",
       "    .dataframe tbody tr th:only-of-type {\n",
       "        vertical-align: middle;\n",
       "    }\n",
       "\n",
       "    .dataframe tbody tr th {\n",
       "        vertical-align: top;\n",
       "    }\n",
       "\n",
       "    .dataframe thead th {\n",
       "        text-align: right;\n",
       "    }\n",
       "</style>\n",
       "<table border=\"1\" class=\"dataframe\">\n",
       "  <thead>\n",
       "    <tr style=\"text-align: right;\">\n",
       "      <th></th>\n",
       "      <th>community</th>\n",
       "      <th>Total doses delivered</th>\n",
       "      <th>Doses administered</th>\n",
       "      <th>% over delivered</th>\n",
       "      <th>No. People vaccinated</th>\n",
       "      <th>ccaa_iso</th>\n",
       "    </tr>\n",
       "  </thead>\n",
       "  <tbody>\n",
       "    <tr>\n",
       "      <th>2021-02-01</th>\n",
       "      <td>Andalucía</td>\n",
       "      <td>330980</td>\n",
       "      <td>313286</td>\n",
       "      <td>0.946541</td>\n",
       "      <td>90764</td>\n",
       "      <td>AN</td>\n",
       "    </tr>\n",
       "    <tr>\n",
       "      <th>2021-02-01</th>\n",
       "      <td>Castilla La Mancha</td>\n",
       "      <td>84635</td>\n",
       "      <td>88888</td>\n",
       "      <td>1.050251</td>\n",
       "      <td>21360</td>\n",
       "      <td>CM</td>\n",
       "    </tr>\n",
       "    <tr>\n",
       "      <th>2021-02-01</th>\n",
       "      <td>Extremadura</td>\n",
       "      <td>51975</td>\n",
       "      <td>49703</td>\n",
       "      <td>0.956287</td>\n",
       "      <td>10776</td>\n",
       "      <td>EX</td>\n",
       "    </tr>\n",
       "    <tr>\n",
       "      <th>2021-02-01</th>\n",
       "      <td>C. Valenciana</td>\n",
       "      <td>145830</td>\n",
       "      <td>147945</td>\n",
       "      <td>1.014503</td>\n",
       "      <td>44979</td>\n",
       "      <td>VC</td>\n",
       "    </tr>\n",
       "    <tr>\n",
       "      <th>2021-02-01</th>\n",
       "      <td>Asturias</td>\n",
       "      <td>59435</td>\n",
       "      <td>58177</td>\n",
       "      <td>0.978834</td>\n",
       "      <td>19503</td>\n",
       "      <td>AS</td>\n",
       "    </tr>\n",
       "    <tr>\n",
       "      <th>...</th>\n",
       "      <td>...</td>\n",
       "      <td>...</td>\n",
       "      <td>...</td>\n",
       "      <td>...</td>\n",
       "      <td>...</td>\n",
       "      <td>...</td>\n",
       "    </tr>\n",
       "    <tr>\n",
       "      <th>2021-11-04</th>\n",
       "      <td>Melilla</td>\n",
       "      <td>141100</td>\n",
       "      <td>104405</td>\n",
       "      <td>0.739936</td>\n",
       "      <td>55293</td>\n",
       "      <td>ML</td>\n",
       "    </tr>\n",
       "    <tr>\n",
       "      <th>2021-11-04</th>\n",
       "      <td>Cantabria</td>\n",
       "      <td>1009495</td>\n",
       "      <td>937386</td>\n",
       "      <td>0.928569</td>\n",
       "      <td>477433</td>\n",
       "      <td>CB</td>\n",
       "    </tr>\n",
       "    <tr>\n",
       "      <th>2021-11-04</th>\n",
       "      <td>Canarias</td>\n",
       "      <td>3567300</td>\n",
       "      <td>3182635</td>\n",
       "      <td>0.892169</td>\n",
       "      <td>1642347</td>\n",
       "      <td>CN</td>\n",
       "    </tr>\n",
       "    <tr>\n",
       "      <th>2021-11-04</th>\n",
       "      <td>La Rioja</td>\n",
       "      <td>557365</td>\n",
       "      <td>489113</td>\n",
       "      <td>0.877545</td>\n",
       "      <td>255489</td>\n",
       "      <td>RI</td>\n",
       "    </tr>\n",
       "    <tr>\n",
       "      <th>2021-11-04</th>\n",
       "      <td>Castilla La Mancha</td>\n",
       "      <td>3268780</td>\n",
       "      <td>3068295</td>\n",
       "      <td>0.938667</td>\n",
       "      <td>1563453</td>\n",
       "      <td>CM</td>\n",
       "    </tr>\n",
       "  </tbody>\n",
       "</table>\n",
       "<p>4921 rows × 6 columns</p>\n",
       "</div>"
      ],
      "text/plain": [
       "                     community  Total doses delivered  Doses administered  \\\n",
       "2021-02-01           Andalucía                 330980              313286   \n",
       "2021-02-01  Castilla La Mancha                  84635               88888   \n",
       "2021-02-01         Extremadura                  51975               49703   \n",
       "2021-02-01       C. Valenciana                 145830              147945   \n",
       "2021-02-01           Asturias                   59435               58177   \n",
       "...                        ...                    ...                 ...   \n",
       "2021-11-04             Melilla                 141100              104405   \n",
       "2021-11-04           Cantabria                1009495              937386   \n",
       "2021-11-04            Canarias                3567300             3182635   \n",
       "2021-11-04            La Rioja                 557365              489113   \n",
       "2021-11-04  Castilla La Mancha                3268780             3068295   \n",
       "\n",
       "            % over delivered  No. People vaccinated ccaa_iso  \n",
       "2021-02-01          0.946541                  90764       AN  \n",
       "2021-02-01          1.050251                  21360       CM  \n",
       "2021-02-01          0.956287                  10776       EX  \n",
       "2021-02-01          1.014503                  44979       VC  \n",
       "2021-02-01          0.978834                  19503       AS  \n",
       "...                      ...                    ...      ...  \n",
       "2021-11-04          0.739936                  55293       ML  \n",
       "2021-11-04          0.928569                 477433       CB  \n",
       "2021-11-04          0.892169                1642347       CN  \n",
       "2021-11-04          0.877545                 255489       RI  \n",
       "2021-11-04          0.938667                1563453       CM  \n",
       "\n",
       "[4921 rows x 6 columns]"
      ]
     },
     "execution_count": 13,
     "metadata": {},
     "output_type": "execute_result"
    }
   ],
   "source": [
    "final"
   ]
  },
  {
   "cell_type": "code",
   "execution_count": 14,
   "id": "126f91db",
   "metadata": {
    "execution": {
     "iopub.execute_input": "2021-11-09T17:16:07.656817Z",
     "iopub.status.busy": "2021-11-09T17:16:07.655853Z",
     "iopub.status.idle": "2021-11-09T17:16:07.664073Z",
     "shell.execute_reply": "2021-11-09T17:16:07.664852Z"
    },
    "jupyter": {
     "source_hidden": true
    },
    "papermill": {
     "duration": 0.047356,
     "end_time": "2021-11-09T17:16:07.665067",
     "exception": false,
     "start_time": "2021-11-09T17:16:07.617711",
     "status": "completed"
    },
    "tags": []
   },
   "outputs": [
    {
     "name": "stdout",
     "output_type": "stream",
     "text": [
      "Error !\n"
     ]
    }
   ],
   "source": [
    "#getting data\n",
    "try :\n",
    "    final.to_sql(con=engine(), name='vaccins', if_exists='replace')\n",
    "except : \n",
    "    print(\"Error !\")\n"
   ]
  }
 ],
 "metadata": {
  "kernelspec": {
   "display_name": "Python 3",
   "language": "python",
   "name": "python3"
  },
  "language_info": {
   "codemirror_mode": {
    "name": "ipython",
    "version": 3
   },
   "file_extension": ".py",
   "mimetype": "text/x-python",
   "name": "python",
   "nbconvert_exporter": "python",
   "pygments_lexer": "ipython3",
   "version": "3.7.5"
  },
  "papermill": {
   "default_parameters": {},
   "duration": 25.523715,
   "end_time": "2021-11-09T17:16:08.973492",
   "environment_variables": {},
   "exception": null,
   "input_path": "/home/kali/COVID-19-ES/airflow/process/update.ipynb",
   "output_path": "/home/kali/COVID-19-ES/airflow/process/outs/out-update2021-11-09T17:15:02.338038+00:00.ipynb",
   "parameters": {
    "msgs": "Ran from Airflow at 2021-11-09T17:15:02.338038+00:00!"
   },
   "start_time": "2021-11-09T17:15:43.449777",
   "version": "2.3.3"
  }
 },
 "nbformat": 4,
 "nbformat_minor": 5
}