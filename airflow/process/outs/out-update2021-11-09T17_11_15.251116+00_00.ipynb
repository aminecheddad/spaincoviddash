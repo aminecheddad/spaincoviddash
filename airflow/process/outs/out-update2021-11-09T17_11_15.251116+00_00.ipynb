{
 "cells": [
  {
   "cell_type": "code",
   "execution_count": 1,
   "id": "fa24770c",
   "metadata": {
    "execution": {
     "iopub.execute_input": "2021-11-09T17:11:57.138778Z",
     "iopub.status.busy": "2021-11-09T17:11:57.136972Z",
     "iopub.status.idle": "2021-11-09T17:11:57.150669Z",
     "shell.execute_reply": "2021-11-09T17:11:57.152208Z"
    },
    "jupyter": {
     "source_hidden": true
    },
    "papermill": {
     "duration": 0.056607,
     "end_time": "2021-11-09T17:11:57.152591",
     "exception": false,
     "start_time": "2021-11-09T17:11:57.095984",
     "status": "completed"
    },
    "tags": [
     "injected-parameters"
    ]
   },
   "outputs": [],
   "source": [
    "# Parameters\n",
    "msgs = \"Ran from Airflow at 2021-11-09T17:11:15.251116+00:00!\"\n"
   ]
  },
  {
   "cell_type": "code",
   "execution_count": 2,
   "id": "25cb325f",
   "metadata": {
    "execution": {
     "iopub.execute_input": "2021-11-09T17:11:57.217433Z",
     "iopub.status.busy": "2021-11-09T17:11:57.216467Z",
     "iopub.status.idle": "2021-11-09T17:11:58.138274Z",
     "shell.execute_reply": "2021-11-09T17:11:58.140707Z"
    },
    "jupyter": {
     "source_hidden": true
    },
    "papermill": {
     "duration": 0.959297,
     "end_time": "2021-11-09T17:11:58.141946",
     "exception": false,
     "start_time": "2021-11-09T17:11:57.182649",
     "status": "completed"
    },
    "tags": []
   },
   "outputs": [],
   "source": [
    "import requests\n",
    "import time\n",
    "import datetime\n",
    "import pandas as pd\n",
    "import io\n",
    "import mysql.connector\n",
    "from sqlalchemy import exc\n",
    "import sqlalchemy\n",
    "pd.options.display.max_rows = 150"
   ]
  },
  {
   "cell_type": "code",
   "execution_count": 3,
   "id": "7923c7b3",
   "metadata": {
    "execution": {
     "iopub.execute_input": "2021-11-09T17:11:58.210519Z",
     "iopub.status.busy": "2021-11-09T17:11:58.209039Z",
     "iopub.status.idle": "2021-11-09T17:11:58.227117Z",
     "shell.execute_reply": "2021-11-09T17:11:58.229792Z"
    },
    "jupyter": {
     "source_hidden": true
    },
    "papermill": {
     "duration": 0.05844,
     "end_time": "2021-11-09T17:11:58.230232",
     "exception": false,
     "start_time": "2021-11-09T17:11:58.171792",
     "status": "completed"
    },
    "tags": []
   },
   "outputs": [],
   "source": [
    "def c_engine(host, username, pwd, db_name, attempts = 3) :\n",
    "    try : \n",
    "        engine = sqlalchemy.create_engine('mysql+mysqlconnector://{user}:{password}@{host}/{database}'.format(\n",
    "            user = username,\n",
    "            password = pwd, \n",
    "            host = host,\n",
    "            database = db_name))\n",
    "        return engine\n",
    "    \n",
    "    except exc.SQLAlchemyError as error:\n",
    "        if attempts>0:\n",
    "            print(\"An error has occured \", error)\n",
    "            time.sleep(30)\n",
    "            c_engine(host, username, pwd, db_name, attempts-1)\n",
    "    return False\n",
    "\n",
    "def select_data(engine, table_name) : \n",
    "    try:\n",
    "        sql_query = pd.read_sql_query(\n",
    "            '''SELECT * FROM {table}'''.format(table = table_name), engine)\n",
    "        dataframe = pd.DataFrame(sql_query)\n",
    "        if dataframe.empty : \n",
    "            return False, None\n",
    "        else : \n",
    "            return True, dataframe\n",
    "    except exc.SQLAlchemyError as error:\n",
    "        print(\"An error has occured\", error)\n",
    "        return False, None"
   ]
  },
  {
   "cell_type": "code",
   "execution_count": 4,
   "id": "9389c1d6",
   "metadata": {
    "execution": {
     "iopub.execute_input": "2021-11-09T17:11:58.297244Z",
     "iopub.status.busy": "2021-11-09T17:11:58.295623Z",
     "iopub.status.idle": "2021-11-09T17:12:04.537313Z",
     "shell.execute_reply": "2021-11-09T17:12:04.538620Z"
    },
    "jupyter": {
     "source_hidden": true
    },
    "papermill": {
     "duration": 6.279689,
     "end_time": "2021-11-09T17:12:04.538932",
     "exception": false,
     "start_time": "2021-11-09T17:11:58.259243",
     "status": "completed"
    },
    "tags": []
   },
   "outputs": [],
   "source": [
    "#getting data\n",
    "engine = c_engine(\"cvp19.mysql.database.azure.com\", \"u5487210@cvp19\", \"jRG2XXi4CwjHvAa\", \"my_db\")\n",
    "_, dataframe = select_data(engine, 'vaccins')"
   ]
  },
  {
   "cell_type": "code",
   "execution_count": 5,
   "id": "cca13b2c",
   "metadata": {
    "execution": {
     "iopub.execute_input": "2021-11-09T17:12:04.601656Z",
     "iopub.status.busy": "2021-11-09T17:12:04.600517Z",
     "iopub.status.idle": "2021-11-09T17:12:04.624774Z",
     "shell.execute_reply": "2021-11-09T17:12:04.626212Z"
    },
    "jupyter": {
     "source_hidden": true
    },
    "papermill": {
     "duration": 0.061221,
     "end_time": "2021-11-09T17:12:04.626453",
     "exception": false,
     "start_time": "2021-11-09T17:12:04.565232",
     "status": "completed"
    },
    "tags": []
   },
   "outputs": [
    {
     "data": {
      "text/plain": [
       "Date                      object\n",
       "community                 object\n",
       "Total doses delivered      int64\n",
       "Doses administered         int64\n",
       "% over delivered         float64\n",
       "No. People vaccinated      int64\n",
       "ccaa_iso                  object\n",
       "dtype: object"
      ]
     },
     "execution_count": 5,
     "metadata": {},
     "output_type": "execute_result"
    }
   ],
   "source": [
    "dataframe.dtypes"
   ]
  },
  {
   "cell_type": "code",
   "execution_count": 6,
   "id": "0fe70119",
   "metadata": {
    "execution": {
     "iopub.execute_input": "2021-11-09T17:12:04.689058Z",
     "iopub.status.busy": "2021-11-09T17:12:04.688098Z",
     "iopub.status.idle": "2021-11-09T17:12:04.744511Z",
     "shell.execute_reply": "2021-11-09T17:12:04.745795Z"
    },
    "jupyter": {
     "source_hidden": true
    },
    "papermill": {
     "duration": 0.092036,
     "end_time": "2021-11-09T17:12:04.746028",
     "exception": false,
     "start_time": "2021-11-09T17:12:04.653992",
     "status": "completed"
    },
    "tags": []
   },
   "outputs": [
    {
     "data": {
      "text/html": [
       "<div>\n",
       "<style scoped>\n",
       "    .dataframe tbody tr th:only-of-type {\n",
       "        vertical-align: middle;\n",
       "    }\n",
       "\n",
       "    .dataframe tbody tr th {\n",
       "        vertical-align: top;\n",
       "    }\n",
       "\n",
       "    .dataframe thead th {\n",
       "        text-align: right;\n",
       "    }\n",
       "</style>\n",
       "<table border=\"1\" class=\"dataframe\">\n",
       "  <thead>\n",
       "    <tr style=\"text-align: right;\">\n",
       "      <th></th>\n",
       "      <th>community</th>\n",
       "      <th>Total doses delivered</th>\n",
       "      <th>Doses administered</th>\n",
       "      <th>% over delivered</th>\n",
       "      <th>No. People vaccinated</th>\n",
       "      <th>ccaa_iso</th>\n",
       "    </tr>\n",
       "    <tr>\n",
       "      <th>Date</th>\n",
       "      <th></th>\n",
       "      <th></th>\n",
       "      <th></th>\n",
       "      <th></th>\n",
       "      <th></th>\n",
       "      <th></th>\n",
       "    </tr>\n",
       "  </thead>\n",
       "  <tbody>\n",
       "    <tr>\n",
       "      <th>2021-02-01</th>\n",
       "      <td>Andalucía</td>\n",
       "      <td>330980</td>\n",
       "      <td>313286</td>\n",
       "      <td>0.946541</td>\n",
       "      <td>90764</td>\n",
       "      <td>AN</td>\n",
       "    </tr>\n",
       "    <tr>\n",
       "      <th>2021-02-01</th>\n",
       "      <td>Navarra</td>\n",
       "      <td>28145</td>\n",
       "      <td>26779</td>\n",
       "      <td>0.951466</td>\n",
       "      <td>6320</td>\n",
       "      <td>NC</td>\n",
       "    </tr>\n",
       "    <tr>\n",
       "      <th>2021-02-01</th>\n",
       "      <td>Madrid</td>\n",
       "      <td>232775</td>\n",
       "      <td>199495</td>\n",
       "      <td>0.857029</td>\n",
       "      <td>24312</td>\n",
       "      <td>MD</td>\n",
       "    </tr>\n",
       "    <tr>\n",
       "      <th>2021-02-01</th>\n",
       "      <td>Murcia</td>\n",
       "      <td>60425</td>\n",
       "      <td>60731</td>\n",
       "      <td>1.005064</td>\n",
       "      <td>12580</td>\n",
       "      <td>MC</td>\n",
       "    </tr>\n",
       "    <tr>\n",
       "      <th>2021-02-01</th>\n",
       "      <td>Aragón</td>\n",
       "      <td>56505</td>\n",
       "      <td>56482</td>\n",
       "      <td>0.999593</td>\n",
       "      <td>11119</td>\n",
       "      <td>AR</td>\n",
       "    </tr>\n",
       "    <tr>\n",
       "      <th>...</th>\n",
       "      <td>...</td>\n",
       "      <td>...</td>\n",
       "      <td>...</td>\n",
       "      <td>...</td>\n",
       "      <td>...</td>\n",
       "      <td>...</td>\n",
       "    </tr>\n",
       "    <tr>\n",
       "      <th>2021-11-04</th>\n",
       "      <td>Cantabria</td>\n",
       "      <td>1009495</td>\n",
       "      <td>937386</td>\n",
       "      <td>0.928569</td>\n",
       "      <td>477433</td>\n",
       "      <td>CB</td>\n",
       "    </tr>\n",
       "    <tr>\n",
       "      <th>2021-11-04</th>\n",
       "      <td>Andalucía</td>\n",
       "      <td>13766150</td>\n",
       "      <td>13199112</td>\n",
       "      <td>0.958809</td>\n",
       "      <td>6749391</td>\n",
       "      <td>AN</td>\n",
       "    </tr>\n",
       "    <tr>\n",
       "      <th>2021-11-04</th>\n",
       "      <td>Aragón</td>\n",
       "      <td>2112962</td>\n",
       "      <td>2024998</td>\n",
       "      <td>0.958369</td>\n",
       "      <td>1049330</td>\n",
       "      <td>AR</td>\n",
       "    </tr>\n",
       "    <tr>\n",
       "      <th>2021-11-04</th>\n",
       "      <td>Baleares</td>\n",
       "      <td>1938050</td>\n",
       "      <td>1614465</td>\n",
       "      <td>0.833036</td>\n",
       "      <td>843260</td>\n",
       "      <td>IB</td>\n",
       "    </tr>\n",
       "    <tr>\n",
       "      <th>2021-11-04</th>\n",
       "      <td>Murcia</td>\n",
       "      <td>2407175</td>\n",
       "      <td>2246409</td>\n",
       "      <td>0.933214</td>\n",
       "      <td>1162842</td>\n",
       "      <td>MC</td>\n",
       "    </tr>\n",
       "  </tbody>\n",
       "</table>\n",
       "<p>4883 rows × 6 columns</p>\n",
       "</div>"
      ],
      "text/plain": [
       "            community  Total doses delivered  Doses administered  \\\n",
       "Date                                                               \n",
       "2021-02-01  Andalucía                 330980              313286   \n",
       "2021-02-01    Navarra                  28145               26779   \n",
       "2021-02-01     Madrid                 232775              199495   \n",
       "2021-02-01    Murcia                   60425               60731   \n",
       "2021-02-01     Aragón                  56505               56482   \n",
       "...               ...                    ...                 ...   \n",
       "2021-11-04  Cantabria                1009495              937386   \n",
       "2021-11-04  Andalucía               13766150            13199112   \n",
       "2021-11-04     Aragón                2112962             2024998   \n",
       "2021-11-04   Baleares                1938050             1614465   \n",
       "2021-11-04    Murcia                 2407175             2246409   \n",
       "\n",
       "            % over delivered  No. People vaccinated ccaa_iso  \n",
       "Date                                                          \n",
       "2021-02-01          0.946541                  90764       AN  \n",
       "2021-02-01          0.951466                   6320       NC  \n",
       "2021-02-01          0.857029                  24312       MD  \n",
       "2021-02-01          1.005064                  12580       MC  \n",
       "2021-02-01          0.999593                  11119       AR  \n",
       "...                      ...                    ...      ...  \n",
       "2021-11-04          0.928569                 477433       CB  \n",
       "2021-11-04          0.958809                6749391       AN  \n",
       "2021-11-04          0.958369                1049330       AR  \n",
       "2021-11-04          0.833036                 843260       IB  \n",
       "2021-11-04          0.933214                1162842       MC  \n",
       "\n",
       "[4883 rows x 6 columns]"
      ]
     },
     "execution_count": 6,
     "metadata": {},
     "output_type": "execute_result"
    }
   ],
   "source": [
    "#sorting dates and setting date column as index\n",
    "dataframe[\"Date\"] = pd.to_datetime(dataframe[\"Date\"])\n",
    "dataframe = dataframe.sort_values([\"Date\"]).set_index(\"Date\")\n",
    "dataframe"
   ]
  },
  {
   "cell_type": "code",
   "execution_count": 7,
   "id": "03c64b8d",
   "metadata": {
    "execution": {
     "iopub.execute_input": "2021-11-09T17:12:04.818017Z",
     "iopub.status.busy": "2021-11-09T17:12:04.816760Z",
     "iopub.status.idle": "2021-11-09T17:12:04.833787Z",
     "shell.execute_reply": "2021-11-09T17:12:04.835320Z"
    },
    "jupyter": {
     "source_hidden": true
    },
    "papermill": {
     "duration": 0.05398,
     "end_time": "2021-11-09T17:12:04.835555",
     "exception": false,
     "start_time": "2021-11-09T17:12:04.781575",
     "status": "completed"
    },
    "tags": []
   },
   "outputs": [],
   "source": [
    "def correct_dfs(dataframe, range_dates) : \n",
    "    \n",
    "    full_dataframe = dataframe.loc[\"2021-02-01\"]\n",
    "    \n",
    "    for date in range_dates : \n",
    "\n",
    "        short_dataframe = dataframe.loc[date.strftime(\"%Y-%m-%d\")].groupby(\"community\", as_index = False).max()\n",
    "        nn_ccaa = [ccaa for ccaa in full_dataframe[\"community\"].to_list() if ccaa not in short_dataframe[\"community\"].to_list()]\n",
    "        concat = pd.concat([short_dataframe, full_dataframe.loc[full_dataframe[\"community\"].isin(nn_ccaa)]])\n",
    "        concat.index = [date for i in range(len(concat.index.to_list()))]   \n",
    "        \n",
    "        dataframe = dataframe.loc[dataframe.index != date.strftime(\"%Y-%m-%d\")]\n",
    "        dataframe = dataframe.append(concat)\n",
    "        full_dataframe = concat\n",
    "        \n",
    "    return dataframe\n",
    "\n",
    "\n",
    "def unavailable_dates(df, dates):\n",
    "    #sorting dates :\n",
    "    dates_sorted = dates.sort()\n",
    "    \n",
    "    for date in dates : \n",
    "        print(\"We treating that date {date} ---\".format(date = date))\n",
    "        \n",
    "        day_before = date - datetime.timedelta(days=1)\n",
    "        \n",
    "        sub_df = df.loc[day_before.strftime(\"%Y-%m-%d\")].groupby(\"community\", as_index = False).max()\n",
    "        sub_df.index = [date for i in range(len(sub_df.index.to_list()))]\n",
    "        df = df.append(sub_df)\n",
    "        \n",
    "        \n",
    "    return df"
   ]
  },
  {
   "cell_type": "code",
   "execution_count": 8,
   "id": "ad71a274",
   "metadata": {
    "execution": {
     "iopub.execute_input": "2021-11-09T17:12:04.925098Z",
     "iopub.status.busy": "2021-11-09T17:12:04.923777Z",
     "iopub.status.idle": "2021-11-09T17:12:04.928823Z",
     "shell.execute_reply": "2021-11-09T17:12:04.930491Z"
    },
    "jupyter": {
     "source_hidden": true
    },
    "papermill": {
     "duration": 0.050815,
     "end_time": "2021-11-09T17:12:04.930913",
     "exception": false,
     "start_time": "2021-11-09T17:12:04.880098",
     "status": "completed"
    },
    "tags": []
   },
   "outputs": [],
   "source": [
    "test_range = [datetime.datetime(2021,1,15) + datetime.timedelta(days = i) for i in range(266)][18:]"
   ]
  },
  {
   "cell_type": "code",
   "execution_count": 9,
   "id": "94dcdfca",
   "metadata": {
    "execution": {
     "iopub.execute_input": "2021-11-09T17:12:04.993265Z",
     "iopub.status.busy": "2021-11-09T17:12:04.992211Z",
     "iopub.status.idle": "2021-11-09T17:12:10.042240Z",
     "shell.execute_reply": "2021-11-09T17:12:10.043619Z"
    },
    "jupyter": {
     "source_hidden": true
    },
    "papermill": {
     "duration": 5.085108,
     "end_time": "2021-11-09T17:12:10.043906",
     "exception": false,
     "start_time": "2021-11-09T17:12:04.958798",
     "status": "completed"
    },
    "tags": []
   },
   "outputs": [
    {
     "data": {
      "text/plain": [
       "[]"
      ]
     },
     "execution_count": 9,
     "metadata": {},
     "output_type": "execute_result"
    }
   ],
   "source": [
    "missing_dates = [date for date in test_range if date not in dataframe.index.to_list()]\n",
    "missing_dates"
   ]
  },
  {
   "cell_type": "code",
   "execution_count": 10,
   "id": "bfa8c02d",
   "metadata": {
    "execution": {
     "iopub.execute_input": "2021-11-09T17:12:10.109656Z",
     "iopub.status.busy": "2021-11-09T17:12:10.108575Z",
     "iopub.status.idle": "2021-11-09T17:12:10.114720Z",
     "shell.execute_reply": "2021-11-09T17:12:10.115535Z"
    },
    "jupyter": {
     "source_hidden": true
    },
    "papermill": {
     "duration": 0.042231,
     "end_time": "2021-11-09T17:12:10.115766",
     "exception": false,
     "start_time": "2021-11-09T17:12:10.073535",
     "status": "completed"
    },
    "tags": []
   },
   "outputs": [],
   "source": [
    "corrected_dates = unavailable_dates(dataframe, missing_dates)"
   ]
  },
  {
   "cell_type": "code",
   "execution_count": 11,
   "id": "f6e7880e",
   "metadata": {
    "execution": {
     "iopub.execute_input": "2021-11-09T17:12:10.194892Z",
     "iopub.status.busy": "2021-11-09T17:12:10.193467Z",
     "iopub.status.idle": "2021-11-09T17:12:10.249504Z",
     "shell.execute_reply": "2021-11-09T17:12:10.251610Z"
    },
    "jupyter": {
     "source_hidden": true
    },
    "papermill": {
     "duration": 0.104372,
     "end_time": "2021-11-09T17:12:10.252043",
     "exception": false,
     "start_time": "2021-11-09T17:12:10.147671",
     "status": "completed"
    },
    "tags": []
   },
   "outputs": [
    {
     "data": {
      "text/html": [
       "<div>\n",
       "<style scoped>\n",
       "    .dataframe tbody tr th:only-of-type {\n",
       "        vertical-align: middle;\n",
       "    }\n",
       "\n",
       "    .dataframe tbody tr th {\n",
       "        vertical-align: top;\n",
       "    }\n",
       "\n",
       "    .dataframe thead th {\n",
       "        text-align: right;\n",
       "    }\n",
       "</style>\n",
       "<table border=\"1\" class=\"dataframe\">\n",
       "  <thead>\n",
       "    <tr style=\"text-align: right;\">\n",
       "      <th></th>\n",
       "      <th>community</th>\n",
       "      <th>Total doses delivered</th>\n",
       "      <th>Doses administered</th>\n",
       "      <th>% over delivered</th>\n",
       "      <th>No. People vaccinated</th>\n",
       "      <th>ccaa_iso</th>\n",
       "    </tr>\n",
       "    <tr>\n",
       "      <th>Date</th>\n",
       "      <th></th>\n",
       "      <th></th>\n",
       "      <th></th>\n",
       "      <th></th>\n",
       "      <th></th>\n",
       "      <th></th>\n",
       "    </tr>\n",
       "  </thead>\n",
       "  <tbody>\n",
       "    <tr>\n",
       "      <th>2021-02-01</th>\n",
       "      <td>Andalucía</td>\n",
       "      <td>330980</td>\n",
       "      <td>313286</td>\n",
       "      <td>0.946541</td>\n",
       "      <td>90764</td>\n",
       "      <td>AN</td>\n",
       "    </tr>\n",
       "    <tr>\n",
       "      <th>2021-02-01</th>\n",
       "      <td>Navarra</td>\n",
       "      <td>28145</td>\n",
       "      <td>26779</td>\n",
       "      <td>0.951466</td>\n",
       "      <td>6320</td>\n",
       "      <td>NC</td>\n",
       "    </tr>\n",
       "    <tr>\n",
       "      <th>2021-02-01</th>\n",
       "      <td>Madrid</td>\n",
       "      <td>232775</td>\n",
       "      <td>199495</td>\n",
       "      <td>0.857029</td>\n",
       "      <td>24312</td>\n",
       "      <td>MD</td>\n",
       "    </tr>\n",
       "    <tr>\n",
       "      <th>2021-02-01</th>\n",
       "      <td>Murcia</td>\n",
       "      <td>60425</td>\n",
       "      <td>60731</td>\n",
       "      <td>1.005064</td>\n",
       "      <td>12580</td>\n",
       "      <td>MC</td>\n",
       "    </tr>\n",
       "    <tr>\n",
       "      <th>2021-02-01</th>\n",
       "      <td>Aragón</td>\n",
       "      <td>56505</td>\n",
       "      <td>56482</td>\n",
       "      <td>0.999593</td>\n",
       "      <td>11119</td>\n",
       "      <td>AR</td>\n",
       "    </tr>\n",
       "    <tr>\n",
       "      <th>...</th>\n",
       "      <td>...</td>\n",
       "      <td>...</td>\n",
       "      <td>...</td>\n",
       "      <td>...</td>\n",
       "      <td>...</td>\n",
       "      <td>...</td>\n",
       "    </tr>\n",
       "    <tr>\n",
       "      <th>2021-11-04</th>\n",
       "      <td>Cantabria</td>\n",
       "      <td>1009495</td>\n",
       "      <td>937386</td>\n",
       "      <td>0.928569</td>\n",
       "      <td>477433</td>\n",
       "      <td>CB</td>\n",
       "    </tr>\n",
       "    <tr>\n",
       "      <th>2021-11-04</th>\n",
       "      <td>Andalucía</td>\n",
       "      <td>13766150</td>\n",
       "      <td>13199112</td>\n",
       "      <td>0.958809</td>\n",
       "      <td>6749391</td>\n",
       "      <td>AN</td>\n",
       "    </tr>\n",
       "    <tr>\n",
       "      <th>2021-11-04</th>\n",
       "      <td>Aragón</td>\n",
       "      <td>2112962</td>\n",
       "      <td>2024998</td>\n",
       "      <td>0.958369</td>\n",
       "      <td>1049330</td>\n",
       "      <td>AR</td>\n",
       "    </tr>\n",
       "    <tr>\n",
       "      <th>2021-11-04</th>\n",
       "      <td>Baleares</td>\n",
       "      <td>1938050</td>\n",
       "      <td>1614465</td>\n",
       "      <td>0.833036</td>\n",
       "      <td>843260</td>\n",
       "      <td>IB</td>\n",
       "    </tr>\n",
       "    <tr>\n",
       "      <th>2021-11-04</th>\n",
       "      <td>Murcia</td>\n",
       "      <td>2407175</td>\n",
       "      <td>2246409</td>\n",
       "      <td>0.933214</td>\n",
       "      <td>1162842</td>\n",
       "      <td>MC</td>\n",
       "    </tr>\n",
       "  </tbody>\n",
       "</table>\n",
       "<p>4883 rows × 6 columns</p>\n",
       "</div>"
      ],
      "text/plain": [
       "            community  Total doses delivered  Doses administered  \\\n",
       "Date                                                               \n",
       "2021-02-01  Andalucía                 330980              313286   \n",
       "2021-02-01    Navarra                  28145               26779   \n",
       "2021-02-01     Madrid                 232775              199495   \n",
       "2021-02-01    Murcia                   60425               60731   \n",
       "2021-02-01     Aragón                  56505               56482   \n",
       "...               ...                    ...                 ...   \n",
       "2021-11-04  Cantabria                1009495              937386   \n",
       "2021-11-04  Andalucía               13766150            13199112   \n",
       "2021-11-04     Aragón                2112962             2024998   \n",
       "2021-11-04   Baleares                1938050             1614465   \n",
       "2021-11-04    Murcia                 2407175             2246409   \n",
       "\n",
       "            % over delivered  No. People vaccinated ccaa_iso  \n",
       "Date                                                          \n",
       "2021-02-01          0.946541                  90764       AN  \n",
       "2021-02-01          0.951466                   6320       NC  \n",
       "2021-02-01          0.857029                  24312       MD  \n",
       "2021-02-01          1.005064                  12580       MC  \n",
       "2021-02-01          0.999593                  11119       AR  \n",
       "...                      ...                    ...      ...  \n",
       "2021-11-04          0.928569                 477433       CB  \n",
       "2021-11-04          0.958809                6749391       AN  \n",
       "2021-11-04          0.958369                1049330       AR  \n",
       "2021-11-04          0.833036                 843260       IB  \n",
       "2021-11-04          0.933214                1162842       MC  \n",
       "\n",
       "[4883 rows x 6 columns]"
      ]
     },
     "execution_count": 11,
     "metadata": {},
     "output_type": "execute_result"
    }
   ],
   "source": [
    "corrected_dates = corrected_dates.loc[\"2021-02-01\":].sort_index()\n",
    "corrected_dates"
   ]
  },
  {
   "cell_type": "code",
   "execution_count": 12,
   "id": "25c30a76",
   "metadata": {
    "execution": {
     "iopub.execute_input": "2021-11-09T17:12:10.337944Z",
     "iopub.status.busy": "2021-11-09T17:12:10.336885Z",
     "iopub.status.idle": "2021-11-09T17:12:18.612406Z",
     "shell.execute_reply": "2021-11-09T17:12:18.613700Z"
    },
    "jupyter": {
     "source_hidden": true
    },
    "papermill": {
     "duration": 8.326408,
     "end_time": "2021-11-09T17:12:18.613922",
     "exception": false,
     "start_time": "2021-11-09T17:12:10.287514",
     "status": "completed"
    },
    "tags": []
   },
   "outputs": [],
   "source": [
    "final = correct_dfs(corrected_dates, test_range).sort_index()"
   ]
  },
  {
   "cell_type": "code",
   "execution_count": 13,
   "id": "849b1abd",
   "metadata": {
    "execution": {
     "iopub.execute_input": "2021-11-09T17:12:18.681018Z",
     "iopub.status.busy": "2021-11-09T17:12:18.680047Z",
     "iopub.status.idle": "2021-11-09T17:12:18.712097Z",
     "shell.execute_reply": "2021-11-09T17:12:18.713470Z"
    },
    "jupyter": {
     "source_hidden": true
    },
    "papermill": {
     "duration": 0.069999,
     "end_time": "2021-11-09T17:12:18.713788",
     "exception": false,
     "start_time": "2021-11-09T17:12:18.643789",
     "status": "completed"
    },
    "tags": []
   },
   "outputs": [
    {
     "data": {
      "text/html": [
       "<div>\n",
       "<style scoped>\n",
       "    .dataframe tbody tr th:only-of-type {\n",
       "        vertical-align: middle;\n",
       "    }\n",
       "\n",
       "    .dataframe tbody tr th {\n",
       "        vertical-align: top;\n",
       "    }\n",
       "\n",
       "    .dataframe thead th {\n",
       "        text-align: right;\n",
       "    }\n",
       "</style>\n",
       "<table border=\"1\" class=\"dataframe\">\n",
       "  <thead>\n",
       "    <tr style=\"text-align: right;\">\n",
       "      <th></th>\n",
       "      <th>community</th>\n",
       "      <th>Total doses delivered</th>\n",
       "      <th>Doses administered</th>\n",
       "      <th>% over delivered</th>\n",
       "      <th>No. People vaccinated</th>\n",
       "      <th>ccaa_iso</th>\n",
       "    </tr>\n",
       "  </thead>\n",
       "  <tbody>\n",
       "    <tr>\n",
       "      <th>2021-02-01</th>\n",
       "      <td>Andalucía</td>\n",
       "      <td>330980</td>\n",
       "      <td>313286</td>\n",
       "      <td>0.946541</td>\n",
       "      <td>90764</td>\n",
       "      <td>AN</td>\n",
       "    </tr>\n",
       "    <tr>\n",
       "      <th>2021-02-01</th>\n",
       "      <td>Extremadura</td>\n",
       "      <td>51975</td>\n",
       "      <td>49703</td>\n",
       "      <td>0.956287</td>\n",
       "      <td>10776</td>\n",
       "      <td>EX</td>\n",
       "    </tr>\n",
       "    <tr>\n",
       "      <th>2021-02-01</th>\n",
       "      <td>C. Valenciana</td>\n",
       "      <td>145830</td>\n",
       "      <td>147945</td>\n",
       "      <td>1.014503</td>\n",
       "      <td>44979</td>\n",
       "      <td>VC</td>\n",
       "    </tr>\n",
       "    <tr>\n",
       "      <th>2021-02-01</th>\n",
       "      <td>Asturias</td>\n",
       "      <td>59435</td>\n",
       "      <td>58177</td>\n",
       "      <td>0.978834</td>\n",
       "      <td>19503</td>\n",
       "      <td>AS</td>\n",
       "    </tr>\n",
       "    <tr>\n",
       "      <th>2021-02-01</th>\n",
       "      <td>Castilla y Leon</td>\n",
       "      <td>123895</td>\n",
       "      <td>126362</td>\n",
       "      <td>1.019912</td>\n",
       "      <td>35051</td>\n",
       "      <td>CL</td>\n",
       "    </tr>\n",
       "    <tr>\n",
       "      <th>...</th>\n",
       "      <td>...</td>\n",
       "      <td>...</td>\n",
       "      <td>...</td>\n",
       "      <td>...</td>\n",
       "      <td>...</td>\n",
       "      <td>...</td>\n",
       "    </tr>\n",
       "    <tr>\n",
       "      <th>2021-11-04</th>\n",
       "      <td>Cataluña</td>\n",
       "      <td>11863410</td>\n",
       "      <td>11316643</td>\n",
       "      <td>0.953911</td>\n",
       "      <td>5859937</td>\n",
       "      <td>CT</td>\n",
       "    </tr>\n",
       "    <tr>\n",
       "      <th>2021-11-04</th>\n",
       "      <td>Castilla La Mancha</td>\n",
       "      <td>3268780</td>\n",
       "      <td>3068295</td>\n",
       "      <td>0.938667</td>\n",
       "      <td>1563453</td>\n",
       "      <td>CM</td>\n",
       "    </tr>\n",
       "    <tr>\n",
       "      <th>2021-11-04</th>\n",
       "      <td>Murcia</td>\n",
       "      <td>2407175</td>\n",
       "      <td>2246409</td>\n",
       "      <td>0.933214</td>\n",
       "      <td>1162842</td>\n",
       "      <td>MC</td>\n",
       "    </tr>\n",
       "    <tr>\n",
       "      <th>2021-11-04</th>\n",
       "      <td>Asturias</td>\n",
       "      <td>1706785</td>\n",
       "      <td>1713937</td>\n",
       "      <td>1.004190</td>\n",
       "      <td>865834</td>\n",
       "      <td>AS</td>\n",
       "    </tr>\n",
       "    <tr>\n",
       "      <th>2021-11-04</th>\n",
       "      <td>Baleares</td>\n",
       "      <td>1938050</td>\n",
       "      <td>1614465</td>\n",
       "      <td>0.833036</td>\n",
       "      <td>843260</td>\n",
       "      <td>IB</td>\n",
       "    </tr>\n",
       "  </tbody>\n",
       "</table>\n",
       "<p>4883 rows × 6 columns</p>\n",
       "</div>"
      ],
      "text/plain": [
       "                     community  Total doses delivered  Doses administered  \\\n",
       "2021-02-01           Andalucía                 330980              313286   \n",
       "2021-02-01         Extremadura                  51975               49703   \n",
       "2021-02-01       C. Valenciana                 145830              147945   \n",
       "2021-02-01           Asturias                   59435               58177   \n",
       "2021-02-01    Castilla y Leon                  123895              126362   \n",
       "...                        ...                    ...                 ...   \n",
       "2021-11-04            Cataluña               11863410            11316643   \n",
       "2021-11-04  Castilla La Mancha                3268780             3068295   \n",
       "2021-11-04             Murcia                 2407175             2246409   \n",
       "2021-11-04           Asturias                 1706785             1713937   \n",
       "2021-11-04            Baleares                1938050             1614465   \n",
       "\n",
       "            % over delivered  No. People vaccinated ccaa_iso  \n",
       "2021-02-01          0.946541                  90764       AN  \n",
       "2021-02-01          0.956287                  10776       EX  \n",
       "2021-02-01          1.014503                  44979       VC  \n",
       "2021-02-01          0.978834                  19503       AS  \n",
       "2021-02-01          1.019912                  35051       CL  \n",
       "...                      ...                    ...      ...  \n",
       "2021-11-04          0.953911                5859937       CT  \n",
       "2021-11-04          0.938667                1563453       CM  \n",
       "2021-11-04          0.933214                1162842       MC  \n",
       "2021-11-04          1.004190                 865834       AS  \n",
       "2021-11-04          0.833036                 843260       IB  \n",
       "\n",
       "[4883 rows x 6 columns]"
      ]
     },
     "execution_count": 13,
     "metadata": {},
     "output_type": "execute_result"
    }
   ],
   "source": [
    "final"
   ]
  },
  {
   "cell_type": "code",
   "execution_count": 14,
   "id": "126f91db",
   "metadata": {
    "execution": {
     "iopub.execute_input": "2021-11-09T17:12:18.809689Z",
     "iopub.status.busy": "2021-11-09T17:12:18.808655Z",
     "iopub.status.idle": "2021-11-09T17:12:18.817454Z",
     "shell.execute_reply": "2021-11-09T17:12:18.818296Z"
    },
    "jupyter": {
     "source_hidden": true
    },
    "papermill": {
     "duration": 0.072985,
     "end_time": "2021-11-09T17:12:18.818518",
     "exception": false,
     "start_time": "2021-11-09T17:12:18.745533",
     "status": "completed"
    },
    "tags": []
   },
   "outputs": [
    {
     "name": "stdout",
     "output_type": "stream",
     "text": [
      "Error !\n"
     ]
    }
   ],
   "source": [
    "#getting data\n",
    "try :\n",
    "    final.to_sql(con=engine(), name='vaccins', if_exists='replace')\n",
    "except : \n",
    "    print(\"Error !\")\n"
   ]
  }
 ],
 "metadata": {
  "kernelspec": {
   "display_name": "Python 3",
   "language": "python",
   "name": "python3"
  },
  "language_info": {
   "codemirror_mode": {
    "name": "ipython",
    "version": 3
   },
   "file_extension": ".py",
   "mimetype": "text/x-python",
   "name": "python",
   "nbconvert_exporter": "python",
   "pygments_lexer": "ipython3",
   "version": "3.7.5"
  },
  "papermill": {
   "default_parameters": {},
   "duration": 24.044698,
   "end_time": "2021-11-09T17:12:19.269438",
   "environment_variables": {},
   "exception": null,
   "input_path": "/home/kali/COVID-19-ES/airflow/process/update.ipynb",
   "output_path": "/home/kali/COVID-19-ES/airflow/process/outs/out-update2021-11-09T17:11:15.251116+00:00.ipynb",
   "parameters": {
    "msgs": "Ran from Airflow at 2021-11-09T17:11:15.251116+00:00!"
   },
   "start_time": "2021-11-09T17:11:55.224740",
   "version": "2.3.3"
  }
 },
 "nbformat": 4,
 "nbformat_minor": 5
}