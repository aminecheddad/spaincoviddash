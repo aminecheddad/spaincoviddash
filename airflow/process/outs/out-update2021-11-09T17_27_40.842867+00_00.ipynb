{
 "cells": [
  {
   "cell_type": "code",
   "execution_count": 1,
   "id": "e780b256",
   "metadata": {
    "execution": {
     "iopub.execute_input": "2021-11-09T17:28:39.834676Z",
     "iopub.status.busy": "2021-11-09T17:28:39.832718Z",
     "iopub.status.idle": "2021-11-09T17:28:39.844812Z",
     "shell.execute_reply": "2021-11-09T17:28:39.846169Z"
    },
    "jupyter": {
     "source_hidden": true
    },
    "papermill": {
     "duration": 0.055499,
     "end_time": "2021-11-09T17:28:39.846535",
     "exception": false,
     "start_time": "2021-11-09T17:28:39.791036",
     "status": "completed"
    },
    "tags": [
     "injected-parameters"
    ]
   },
   "outputs": [],
   "source": [
    "# Parameters\n",
    "msgs = \"Ran from Airflow at 2021-11-09T17:27:40.842867+00:00!\"\n"
   ]
  },
  {
   "cell_type": "code",
   "execution_count": 2,
   "id": "25cb325f",
   "metadata": {
    "execution": {
     "iopub.execute_input": "2021-11-09T17:28:39.905286Z",
     "iopub.status.busy": "2021-11-09T17:28:39.904231Z",
     "iopub.status.idle": "2021-11-09T17:28:41.252726Z",
     "shell.execute_reply": "2021-11-09T17:28:41.254088Z"
    },
    "jupyter": {
     "source_hidden": true
    },
    "papermill": {
     "duration": 1.381167,
     "end_time": "2021-11-09T17:28:41.254392",
     "exception": false,
     "start_time": "2021-11-09T17:28:39.873225",
     "status": "completed"
    },
    "tags": []
   },
   "outputs": [],
   "source": [
    "import requests\n",
    "import time\n",
    "import datetime\n",
    "import pandas as pd\n",
    "import io\n",
    "import mysql.connector\n",
    "from sqlalchemy import exc\n",
    "import sqlalchemy\n",
    "pd.options.display.max_rows = 150"
   ]
  },
  {
   "cell_type": "code",
   "execution_count": 3,
   "id": "7923c7b3",
   "metadata": {
    "execution": {
     "iopub.execute_input": "2021-11-09T17:28:41.349983Z",
     "iopub.status.busy": "2021-11-09T17:28:41.345880Z",
     "iopub.status.idle": "2021-11-09T17:28:41.361887Z",
     "shell.execute_reply": "2021-11-09T17:28:41.363395Z"
    },
    "jupyter": {
     "source_hidden": true
    },
    "papermill": {
     "duration": 0.065536,
     "end_time": "2021-11-09T17:28:41.363653",
     "exception": false,
     "start_time": "2021-11-09T17:28:41.298117",
     "status": "completed"
    },
    "tags": []
   },
   "outputs": [],
   "source": [
    "def c_engine(host, username, pwd, db_name, attempts = 3) :\n",
    "    try : \n",
    "        engine = sqlalchemy.create_engine('mysql+mysqlconnector://{user}:{password}@{host}/{database}'.format(\n",
    "            user = username,\n",
    "            password = pwd, \n",
    "            host = host,\n",
    "            database = db_name))\n",
    "        return engine\n",
    "    \n",
    "    except exc.SQLAlchemyError as error:\n",
    "        if attempts>0:\n",
    "            print(\"An error has occured \", error)\n",
    "            time.sleep(30)\n",
    "            c_engine(host, username, pwd, db_name, attempts-1)\n",
    "    return False\n",
    "\n",
    "def select_data(engine, table_name) : \n",
    "    try:\n",
    "        sql_query = pd.read_sql_query(\n",
    "            '''SELECT * FROM {table}'''.format(table = table_name), engine)\n",
    "        dataframe = pd.DataFrame(sql_query)\n",
    "        if dataframe.empty : \n",
    "            return False, None\n",
    "        else : \n",
    "            return True, dataframe\n",
    "    except exc.SQLAlchemyError as error:\n",
    "        print(\"An error has occured\", error)\n",
    "        return False, None"
   ]
  },
  {
   "cell_type": "code",
   "execution_count": 4,
   "id": "9389c1d6",
   "metadata": {
    "execution": {
     "iopub.execute_input": "2021-11-09T17:28:41.458418Z",
     "iopub.status.busy": "2021-11-09T17:28:41.453824Z",
     "iopub.status.idle": "2021-11-09T17:28:47.818795Z",
     "shell.execute_reply": "2021-11-09T17:28:47.820206Z"
    },
    "jupyter": {
     "source_hidden": true
    },
    "papermill": {
     "duration": 6.405902,
     "end_time": "2021-11-09T17:28:47.820774",
     "exception": false,
     "start_time": "2021-11-09T17:28:41.414872",
     "status": "completed"
    },
    "tags": []
   },
   "outputs": [],
   "source": [
    "#getting data\n",
    "engine = c_engine(\"cvp19.mysql.database.azure.com\", \"u5487210@cvp19\", \"jRG2XXi4CwjHvAa\", \"my_db\")\n",
    "_, dataframe = select_data(engine, 'vaccins')"
   ]
  },
  {
   "cell_type": "code",
   "execution_count": 5,
   "id": "cca13b2c",
   "metadata": {
    "execution": {
     "iopub.execute_input": "2021-11-09T17:28:47.883564Z",
     "iopub.status.busy": "2021-11-09T17:28:47.879857Z",
     "iopub.status.idle": "2021-11-09T17:28:47.905699Z",
     "shell.execute_reply": "2021-11-09T17:28:47.907044Z"
    },
    "jupyter": {
     "source_hidden": true
    },
    "papermill": {
     "duration": 0.05887,
     "end_time": "2021-11-09T17:28:47.907289",
     "exception": false,
     "start_time": "2021-11-09T17:28:47.848419",
     "status": "completed"
    },
    "tags": []
   },
   "outputs": [
    {
     "data": {
      "text/plain": [
       "Date                      object\n",
       "community                 object\n",
       "Total doses delivered      int64\n",
       "Doses administered         int64\n",
       "% over delivered         float64\n",
       "No. People vaccinated      int64\n",
       "ccaa_iso                  object\n",
       "dtype: object"
      ]
     },
     "execution_count": 5,
     "metadata": {},
     "output_type": "execute_result"
    }
   ],
   "source": [
    "dataframe.dtypes"
   ]
  },
  {
   "cell_type": "code",
   "execution_count": 6,
   "id": "0fe70119",
   "metadata": {
    "execution": {
     "iopub.execute_input": "2021-11-09T17:28:47.973389Z",
     "iopub.status.busy": "2021-11-09T17:28:47.971700Z",
     "iopub.status.idle": "2021-11-09T17:28:48.037664Z",
     "shell.execute_reply": "2021-11-09T17:28:48.039857Z"
    },
    "jupyter": {
     "source_hidden": true
    },
    "papermill": {
     "duration": 0.10662,
     "end_time": "2021-11-09T17:28:48.040287",
     "exception": false,
     "start_time": "2021-11-09T17:28:47.933667",
     "status": "completed"
    },
    "tags": []
   },
   "outputs": [
    {
     "data": {
      "text/html": [
       "<div>\n",
       "<style scoped>\n",
       "    .dataframe tbody tr th:only-of-type {\n",
       "        vertical-align: middle;\n",
       "    }\n",
       "\n",
       "    .dataframe tbody tr th {\n",
       "        vertical-align: top;\n",
       "    }\n",
       "\n",
       "    .dataframe thead th {\n",
       "        text-align: right;\n",
       "    }\n",
       "</style>\n",
       "<table border=\"1\" class=\"dataframe\">\n",
       "  <thead>\n",
       "    <tr style=\"text-align: right;\">\n",
       "      <th></th>\n",
       "      <th>community</th>\n",
       "      <th>Total doses delivered</th>\n",
       "      <th>Doses administered</th>\n",
       "      <th>% over delivered</th>\n",
       "      <th>No. People vaccinated</th>\n",
       "      <th>ccaa_iso</th>\n",
       "    </tr>\n",
       "    <tr>\n",
       "      <th>Date</th>\n",
       "      <th></th>\n",
       "      <th></th>\n",
       "      <th></th>\n",
       "      <th></th>\n",
       "      <th></th>\n",
       "      <th></th>\n",
       "    </tr>\n",
       "  </thead>\n",
       "  <tbody>\n",
       "    <tr>\n",
       "      <th>2021-02-01</th>\n",
       "      <td>Andalucía</td>\n",
       "      <td>330980</td>\n",
       "      <td>313286</td>\n",
       "      <td>0.946541</td>\n",
       "      <td>90764</td>\n",
       "      <td>AN</td>\n",
       "    </tr>\n",
       "    <tr>\n",
       "      <th>2021-02-01</th>\n",
       "      <td>Navarra</td>\n",
       "      <td>28145</td>\n",
       "      <td>26779</td>\n",
       "      <td>0.951466</td>\n",
       "      <td>6320</td>\n",
       "      <td>NC</td>\n",
       "    </tr>\n",
       "    <tr>\n",
       "      <th>2021-02-01</th>\n",
       "      <td>Madrid</td>\n",
       "      <td>232775</td>\n",
       "      <td>199495</td>\n",
       "      <td>0.857029</td>\n",
       "      <td>24312</td>\n",
       "      <td>MD</td>\n",
       "    </tr>\n",
       "    <tr>\n",
       "      <th>2021-02-01</th>\n",
       "      <td>Murcia</td>\n",
       "      <td>60425</td>\n",
       "      <td>60731</td>\n",
       "      <td>1.005064</td>\n",
       "      <td>12580</td>\n",
       "      <td>MC</td>\n",
       "    </tr>\n",
       "    <tr>\n",
       "      <th>2021-02-01</th>\n",
       "      <td>Aragón</td>\n",
       "      <td>56505</td>\n",
       "      <td>56482</td>\n",
       "      <td>0.999593</td>\n",
       "      <td>11119</td>\n",
       "      <td>AR</td>\n",
       "    </tr>\n",
       "    <tr>\n",
       "      <th>...</th>\n",
       "      <td>...</td>\n",
       "      <td>...</td>\n",
       "      <td>...</td>\n",
       "      <td>...</td>\n",
       "      <td>...</td>\n",
       "      <td>...</td>\n",
       "    </tr>\n",
       "    <tr>\n",
       "      <th>2021-11-07</th>\n",
       "      <td>C. Valenciana</td>\n",
       "      <td>8088540</td>\n",
       "      <td>7831632</td>\n",
       "      <td>0.968238</td>\n",
       "      <td>4015726</td>\n",
       "      <td>VC</td>\n",
       "    </tr>\n",
       "    <tr>\n",
       "      <th>2021-11-07</th>\n",
       "      <td>Extremadura</td>\n",
       "      <td>1833705</td>\n",
       "      <td>1784224</td>\n",
       "      <td>0.973016</td>\n",
       "      <td>884894</td>\n",
       "      <td>EX</td>\n",
       "    </tr>\n",
       "    <tr>\n",
       "      <th>2021-11-07</th>\n",
       "      <td>Navarra</td>\n",
       "      <td>1046175</td>\n",
       "      <td>1017222</td>\n",
       "      <td>0.972325</td>\n",
       "      <td>522257</td>\n",
       "      <td>NC</td>\n",
       "    </tr>\n",
       "    <tr>\n",
       "      <th>2021-11-07</th>\n",
       "      <td>Canarias</td>\n",
       "      <td>3567300</td>\n",
       "      <td>3187906</td>\n",
       "      <td>0.893647</td>\n",
       "      <td>1642890</td>\n",
       "      <td>CN</td>\n",
       "    </tr>\n",
       "    <tr>\n",
       "      <th>2021-11-07</th>\n",
       "      <td>Cataluña</td>\n",
       "      <td>11863410</td>\n",
       "      <td>11345956</td>\n",
       "      <td>0.956382</td>\n",
       "      <td>5866345</td>\n",
       "      <td>CT</td>\n",
       "    </tr>\n",
       "  </tbody>\n",
       "</table>\n",
       "<p>5111 rows × 6 columns</p>\n",
       "</div>"
      ],
      "text/plain": [
       "                community  Total doses delivered  Doses administered  \\\n",
       "Date                                                                   \n",
       "2021-02-01      Andalucía                 330980              313286   \n",
       "2021-02-01        Navarra                  28145               26779   \n",
       "2021-02-01         Madrid                 232775              199495   \n",
       "2021-02-01        Murcia                   60425               60731   \n",
       "2021-02-01         Aragón                  56505               56482   \n",
       "...                   ...                    ...                 ...   \n",
       "2021-11-07  C. Valenciana                8088540             7831632   \n",
       "2021-11-07    Extremadura                1833705             1784224   \n",
       "2021-11-07        Navarra                1046175             1017222   \n",
       "2021-11-07       Canarias                3567300             3187906   \n",
       "2021-11-07       Cataluña               11863410            11345956   \n",
       "\n",
       "            % over delivered  No. People vaccinated ccaa_iso  \n",
       "Date                                                          \n",
       "2021-02-01          0.946541                  90764       AN  \n",
       "2021-02-01          0.951466                   6320       NC  \n",
       "2021-02-01          0.857029                  24312       MD  \n",
       "2021-02-01          1.005064                  12580       MC  \n",
       "2021-02-01          0.999593                  11119       AR  \n",
       "...                      ...                    ...      ...  \n",
       "2021-11-07          0.968238                4015726       VC  \n",
       "2021-11-07          0.973016                 884894       EX  \n",
       "2021-11-07          0.972325                 522257       NC  \n",
       "2021-11-07          0.893647                1642890       CN  \n",
       "2021-11-07          0.956382                5866345       CT  \n",
       "\n",
       "[5111 rows x 6 columns]"
      ]
     },
     "execution_count": 6,
     "metadata": {},
     "output_type": "execute_result"
    }
   ],
   "source": [
    "#sorting dates and setting date column as index\n",
    "dataframe[\"Date\"] = pd.to_datetime(dataframe[\"Date\"])\n",
    "dataframe = dataframe.sort_values([\"Date\"]).set_index(\"Date\")\n",
    "dataframe"
   ]
  },
  {
   "cell_type": "code",
   "execution_count": 7,
   "id": "03c64b8d",
   "metadata": {
    "execution": {
     "iopub.execute_input": "2021-11-09T17:28:48.122238Z",
     "iopub.status.busy": "2021-11-09T17:28:48.120491Z",
     "iopub.status.idle": "2021-11-09T17:28:48.143043Z",
     "shell.execute_reply": "2021-11-09T17:28:48.145155Z"
    },
    "jupyter": {
     "source_hidden": true
    },
    "papermill": {
     "duration": 0.073276,
     "end_time": "2021-11-09T17:28:48.145539",
     "exception": false,
     "start_time": "2021-11-09T17:28:48.072263",
     "status": "completed"
    },
    "tags": []
   },
   "outputs": [],
   "source": [
    "def correct_dfs(dataframe, range_dates) : \n",
    "    \n",
    "    full_dataframe = dataframe.loc[\"2021-02-01\"]\n",
    "    \n",
    "    for date in range_dates : \n",
    "\n",
    "        short_dataframe = dataframe.loc[date.strftime(\"%Y-%m-%d\")].groupby(\"community\", as_index = False).max()\n",
    "        nn_ccaa = [ccaa for ccaa in full_dataframe[\"community\"].to_list() if ccaa not in short_dataframe[\"community\"].to_list()]\n",
    "        concat = pd.concat([short_dataframe, full_dataframe.loc[full_dataframe[\"community\"].isin(nn_ccaa)]])\n",
    "        concat.index = [date for i in range(len(concat.index.to_list()))]   \n",
    "        \n",
    "        dataframe = dataframe.loc[dataframe.index != date.strftime(\"%Y-%m-%d\")]\n",
    "        dataframe = dataframe.append(concat)\n",
    "        full_dataframe = concat\n",
    "        \n",
    "    return dataframe\n",
    "\n",
    "\n",
    "def unavailable_dates(df, dates):\n",
    "    #sorting dates :\n",
    "    dates_sorted = dates.sort()\n",
    "    \n",
    "    for date in dates : \n",
    "        print(\"We treating that date {date} ---\".format(date = date))\n",
    "        \n",
    "        day_before = date - datetime.timedelta(days=1)\n",
    "        \n",
    "        sub_df = df.loc[day_before.strftime(\"%Y-%m-%d\")].groupby(\"community\", as_index = False).max()\n",
    "        sub_df.index = [date for i in range(len(sub_df.index.to_list()))]\n",
    "        df = df.append(sub_df)\n",
    "        \n",
    "        \n",
    "    return df"
   ]
  },
  {
   "cell_type": "code",
   "execution_count": 8,
   "id": "ad71a274",
   "metadata": {
    "execution": {
     "iopub.execute_input": "2021-11-09T17:28:48.213984Z",
     "iopub.status.busy": "2021-11-09T17:28:48.212950Z",
     "iopub.status.idle": "2021-11-09T17:28:48.227378Z",
     "shell.execute_reply": "2021-11-09T17:28:48.228560Z"
    },
    "jupyter": {
     "source_hidden": true
    },
    "papermill": {
     "duration": 0.051542,
     "end_time": "2021-11-09T17:28:48.228808",
     "exception": false,
     "start_time": "2021-11-09T17:28:48.177266",
     "status": "completed"
    },
    "tags": []
   },
   "outputs": [],
   "source": [
    "test_range = [datetime.datetime(2021,1,15) + datetime.timedelta(days = i) for i in range(266)][18:]"
   ]
  },
  {
   "cell_type": "code",
   "execution_count": 9,
   "id": "94dcdfca",
   "metadata": {
    "execution": {
     "iopub.execute_input": "2021-11-09T17:28:48.318447Z",
     "iopub.status.busy": "2021-11-09T17:28:48.317097Z",
     "iopub.status.idle": "2021-11-09T17:28:53.631572Z",
     "shell.execute_reply": "2021-11-09T17:28:53.634251Z"
    },
    "jupyter": {
     "source_hidden": true
    },
    "papermill": {
     "duration": 5.358061,
     "end_time": "2021-11-09T17:28:53.634862",
     "exception": false,
     "start_time": "2021-11-09T17:28:48.276801",
     "status": "completed"
    },
    "tags": []
   },
   "outputs": [
    {
     "data": {
      "text/plain": [
       "[]"
      ]
     },
     "execution_count": 9,
     "metadata": {},
     "output_type": "execute_result"
    }
   ],
   "source": [
    "missing_dates = [date for date in test_range if date not in dataframe.index.to_list()]\n",
    "missing_dates"
   ]
  },
  {
   "cell_type": "code",
   "execution_count": 10,
   "id": "bfa8c02d",
   "metadata": {
    "execution": {
     "iopub.execute_input": "2021-11-09T17:28:53.711993Z",
     "iopub.status.busy": "2021-11-09T17:28:53.709279Z",
     "iopub.status.idle": "2021-11-09T17:28:53.717274Z",
     "shell.execute_reply": "2021-11-09T17:28:53.718732Z"
    },
    "jupyter": {
     "source_hidden": true
    },
    "papermill": {
     "duration": 0.050364,
     "end_time": "2021-11-09T17:28:53.719166",
     "exception": false,
     "start_time": "2021-11-09T17:28:53.668802",
     "status": "completed"
    },
    "tags": []
   },
   "outputs": [],
   "source": [
    "corrected_dates = unavailable_dates(dataframe, missing_dates)"
   ]
  },
  {
   "cell_type": "code",
   "execution_count": 11,
   "id": "f6e7880e",
   "metadata": {
    "execution": {
     "iopub.execute_input": "2021-11-09T17:28:53.796257Z",
     "iopub.status.busy": "2021-11-09T17:28:53.793235Z",
     "iopub.status.idle": "2021-11-09T17:28:53.842374Z",
     "shell.execute_reply": "2021-11-09T17:28:53.844141Z"
    },
    "jupyter": {
     "source_hidden": true
    },
    "papermill": {
     "duration": 0.087676,
     "end_time": "2021-11-09T17:28:53.844387",
     "exception": false,
     "start_time": "2021-11-09T17:28:53.756711",
     "status": "completed"
    },
    "tags": []
   },
   "outputs": [
    {
     "data": {
      "text/html": [
       "<div>\n",
       "<style scoped>\n",
       "    .dataframe tbody tr th:only-of-type {\n",
       "        vertical-align: middle;\n",
       "    }\n",
       "\n",
       "    .dataframe tbody tr th {\n",
       "        vertical-align: top;\n",
       "    }\n",
       "\n",
       "    .dataframe thead th {\n",
       "        text-align: right;\n",
       "    }\n",
       "</style>\n",
       "<table border=\"1\" class=\"dataframe\">\n",
       "  <thead>\n",
       "    <tr style=\"text-align: right;\">\n",
       "      <th></th>\n",
       "      <th>community</th>\n",
       "      <th>Total doses delivered</th>\n",
       "      <th>Doses administered</th>\n",
       "      <th>% over delivered</th>\n",
       "      <th>No. People vaccinated</th>\n",
       "      <th>ccaa_iso</th>\n",
       "    </tr>\n",
       "    <tr>\n",
       "      <th>Date</th>\n",
       "      <th></th>\n",
       "      <th></th>\n",
       "      <th></th>\n",
       "      <th></th>\n",
       "      <th></th>\n",
       "      <th></th>\n",
       "    </tr>\n",
       "  </thead>\n",
       "  <tbody>\n",
       "    <tr>\n",
       "      <th>2021-02-01</th>\n",
       "      <td>Andalucía</td>\n",
       "      <td>330980</td>\n",
       "      <td>313286</td>\n",
       "      <td>0.946541</td>\n",
       "      <td>90764</td>\n",
       "      <td>AN</td>\n",
       "    </tr>\n",
       "    <tr>\n",
       "      <th>2021-02-01</th>\n",
       "      <td>Navarra</td>\n",
       "      <td>28145</td>\n",
       "      <td>26779</td>\n",
       "      <td>0.951466</td>\n",
       "      <td>6320</td>\n",
       "      <td>NC</td>\n",
       "    </tr>\n",
       "    <tr>\n",
       "      <th>2021-02-01</th>\n",
       "      <td>Madrid</td>\n",
       "      <td>232775</td>\n",
       "      <td>199495</td>\n",
       "      <td>0.857029</td>\n",
       "      <td>24312</td>\n",
       "      <td>MD</td>\n",
       "    </tr>\n",
       "    <tr>\n",
       "      <th>2021-02-01</th>\n",
       "      <td>Murcia</td>\n",
       "      <td>60425</td>\n",
       "      <td>60731</td>\n",
       "      <td>1.005064</td>\n",
       "      <td>12580</td>\n",
       "      <td>MC</td>\n",
       "    </tr>\n",
       "    <tr>\n",
       "      <th>2021-02-01</th>\n",
       "      <td>Aragón</td>\n",
       "      <td>56505</td>\n",
       "      <td>56482</td>\n",
       "      <td>0.999593</td>\n",
       "      <td>11119</td>\n",
       "      <td>AR</td>\n",
       "    </tr>\n",
       "    <tr>\n",
       "      <th>...</th>\n",
       "      <td>...</td>\n",
       "      <td>...</td>\n",
       "      <td>...</td>\n",
       "      <td>...</td>\n",
       "      <td>...</td>\n",
       "      <td>...</td>\n",
       "    </tr>\n",
       "    <tr>\n",
       "      <th>2021-11-07</th>\n",
       "      <td>C. Valenciana</td>\n",
       "      <td>8088540</td>\n",
       "      <td>7831632</td>\n",
       "      <td>0.968238</td>\n",
       "      <td>4015726</td>\n",
       "      <td>VC</td>\n",
       "    </tr>\n",
       "    <tr>\n",
       "      <th>2021-11-07</th>\n",
       "      <td>Extremadura</td>\n",
       "      <td>1833705</td>\n",
       "      <td>1784224</td>\n",
       "      <td>0.973016</td>\n",
       "      <td>884894</td>\n",
       "      <td>EX</td>\n",
       "    </tr>\n",
       "    <tr>\n",
       "      <th>2021-11-07</th>\n",
       "      <td>Navarra</td>\n",
       "      <td>1046175</td>\n",
       "      <td>1017222</td>\n",
       "      <td>0.972325</td>\n",
       "      <td>522257</td>\n",
       "      <td>NC</td>\n",
       "    </tr>\n",
       "    <tr>\n",
       "      <th>2021-11-07</th>\n",
       "      <td>Canarias</td>\n",
       "      <td>3567300</td>\n",
       "      <td>3187906</td>\n",
       "      <td>0.893647</td>\n",
       "      <td>1642890</td>\n",
       "      <td>CN</td>\n",
       "    </tr>\n",
       "    <tr>\n",
       "      <th>2021-11-07</th>\n",
       "      <td>Cataluña</td>\n",
       "      <td>11863410</td>\n",
       "      <td>11345956</td>\n",
       "      <td>0.956382</td>\n",
       "      <td>5866345</td>\n",
       "      <td>CT</td>\n",
       "    </tr>\n",
       "  </tbody>\n",
       "</table>\n",
       "<p>5111 rows × 6 columns</p>\n",
       "</div>"
      ],
      "text/plain": [
       "                community  Total doses delivered  Doses administered  \\\n",
       "Date                                                                   \n",
       "2021-02-01      Andalucía                 330980              313286   \n",
       "2021-02-01        Navarra                  28145               26779   \n",
       "2021-02-01         Madrid                 232775              199495   \n",
       "2021-02-01        Murcia                   60425               60731   \n",
       "2021-02-01         Aragón                  56505               56482   \n",
       "...                   ...                    ...                 ...   \n",
       "2021-11-07  C. Valenciana                8088540             7831632   \n",
       "2021-11-07    Extremadura                1833705             1784224   \n",
       "2021-11-07        Navarra                1046175             1017222   \n",
       "2021-11-07       Canarias                3567300             3187906   \n",
       "2021-11-07       Cataluña               11863410            11345956   \n",
       "\n",
       "            % over delivered  No. People vaccinated ccaa_iso  \n",
       "Date                                                          \n",
       "2021-02-01          0.946541                  90764       AN  \n",
       "2021-02-01          0.951466                   6320       NC  \n",
       "2021-02-01          0.857029                  24312       MD  \n",
       "2021-02-01          1.005064                  12580       MC  \n",
       "2021-02-01          0.999593                  11119       AR  \n",
       "...                      ...                    ...      ...  \n",
       "2021-11-07          0.968238                4015726       VC  \n",
       "2021-11-07          0.973016                 884894       EX  \n",
       "2021-11-07          0.972325                 522257       NC  \n",
       "2021-11-07          0.893647                1642890       CN  \n",
       "2021-11-07          0.956382                5866345       CT  \n",
       "\n",
       "[5111 rows x 6 columns]"
      ]
     },
     "execution_count": 11,
     "metadata": {},
     "output_type": "execute_result"
    }
   ],
   "source": [
    "corrected_dates = corrected_dates.loc[\"2021-02-01\":].sort_index()\n",
    "corrected_dates"
   ]
  },
  {
   "cell_type": "code",
   "execution_count": 12,
   "id": "25c30a76",
   "metadata": {
    "execution": {
     "iopub.execute_input": "2021-11-09T17:28:53.913291Z",
     "iopub.status.busy": "2021-11-09T17:28:53.912310Z",
     "iopub.status.idle": "2021-11-09T17:29:02.481699Z",
     "shell.execute_reply": "2021-11-09T17:29:02.483125Z"
    },
    "jupyter": {
     "source_hidden": true
    },
    "papermill": {
     "duration": 8.609473,
     "end_time": "2021-11-09T17:29:02.483362",
     "exception": false,
     "start_time": "2021-11-09T17:28:53.873889",
     "status": "completed"
    },
    "tags": []
   },
   "outputs": [],
   "source": [
    "final = correct_dfs(corrected_dates, test_range).sort_index()"
   ]
  },
  {
   "cell_type": "code",
   "execution_count": 13,
   "id": "849b1abd",
   "metadata": {
    "execution": {
     "iopub.execute_input": "2021-11-09T17:29:02.553013Z",
     "iopub.status.busy": "2021-11-09T17:29:02.552007Z",
     "iopub.status.idle": "2021-11-09T17:29:02.584087Z",
     "shell.execute_reply": "2021-11-09T17:29:02.585558Z"
    },
    "jupyter": {
     "source_hidden": true
    },
    "papermill": {
     "duration": 0.072338,
     "end_time": "2021-11-09T17:29:02.585810",
     "exception": false,
     "start_time": "2021-11-09T17:29:02.513472",
     "status": "completed"
    },
    "tags": []
   },
   "outputs": [
    {
     "data": {
      "text/html": [
       "<div>\n",
       "<style scoped>\n",
       "    .dataframe tbody tr th:only-of-type {\n",
       "        vertical-align: middle;\n",
       "    }\n",
       "\n",
       "    .dataframe tbody tr th {\n",
       "        vertical-align: top;\n",
       "    }\n",
       "\n",
       "    .dataframe thead th {\n",
       "        text-align: right;\n",
       "    }\n",
       "</style>\n",
       "<table border=\"1\" class=\"dataframe\">\n",
       "  <thead>\n",
       "    <tr style=\"text-align: right;\">\n",
       "      <th></th>\n",
       "      <th>community</th>\n",
       "      <th>Total doses delivered</th>\n",
       "      <th>Doses administered</th>\n",
       "      <th>% over delivered</th>\n",
       "      <th>No. People vaccinated</th>\n",
       "      <th>ccaa_iso</th>\n",
       "    </tr>\n",
       "  </thead>\n",
       "  <tbody>\n",
       "    <tr>\n",
       "      <th>2021-02-01</th>\n",
       "      <td>Andalucía</td>\n",
       "      <td>330980</td>\n",
       "      <td>313286</td>\n",
       "      <td>0.946541</td>\n",
       "      <td>90764</td>\n",
       "      <td>AN</td>\n",
       "    </tr>\n",
       "    <tr>\n",
       "      <th>2021-02-01</th>\n",
       "      <td>Extremadura</td>\n",
       "      <td>51975</td>\n",
       "      <td>49703</td>\n",
       "      <td>0.956287</td>\n",
       "      <td>10776</td>\n",
       "      <td>EX</td>\n",
       "    </tr>\n",
       "    <tr>\n",
       "      <th>2021-02-01</th>\n",
       "      <td>C. Valenciana</td>\n",
       "      <td>145830</td>\n",
       "      <td>147945</td>\n",
       "      <td>1.014503</td>\n",
       "      <td>44979</td>\n",
       "      <td>VC</td>\n",
       "    </tr>\n",
       "    <tr>\n",
       "      <th>2021-02-01</th>\n",
       "      <td>Asturias</td>\n",
       "      <td>59435</td>\n",
       "      <td>58177</td>\n",
       "      <td>0.978834</td>\n",
       "      <td>19503</td>\n",
       "      <td>AS</td>\n",
       "    </tr>\n",
       "    <tr>\n",
       "      <th>2021-02-01</th>\n",
       "      <td>Castilla y Leon</td>\n",
       "      <td>123895</td>\n",
       "      <td>126362</td>\n",
       "      <td>1.019912</td>\n",
       "      <td>35051</td>\n",
       "      <td>CL</td>\n",
       "    </tr>\n",
       "    <tr>\n",
       "      <th>...</th>\n",
       "      <td>...</td>\n",
       "      <td>...</td>\n",
       "      <td>...</td>\n",
       "      <td>...</td>\n",
       "      <td>...</td>\n",
       "      <td>...</td>\n",
       "    </tr>\n",
       "    <tr>\n",
       "      <th>2021-11-07</th>\n",
       "      <td>País Vasco</td>\n",
       "      <td>3719130</td>\n",
       "      <td>3455869</td>\n",
       "      <td>0.929214</td>\n",
       "      <td>1784368</td>\n",
       "      <td>PV</td>\n",
       "    </tr>\n",
       "    <tr>\n",
       "      <th>2021-11-07</th>\n",
       "      <td>C. Valenciana</td>\n",
       "      <td>8088540</td>\n",
       "      <td>7831632</td>\n",
       "      <td>0.968238</td>\n",
       "      <td>4015726</td>\n",
       "      <td>VC</td>\n",
       "    </tr>\n",
       "    <tr>\n",
       "      <th>2021-11-07</th>\n",
       "      <td>Extremadura</td>\n",
       "      <td>1833705</td>\n",
       "      <td>1784224</td>\n",
       "      <td>0.973016</td>\n",
       "      <td>884894</td>\n",
       "      <td>EX</td>\n",
       "    </tr>\n",
       "    <tr>\n",
       "      <th>2021-11-07</th>\n",
       "      <td>Navarra</td>\n",
       "      <td>1046175</td>\n",
       "      <td>1017222</td>\n",
       "      <td>0.972325</td>\n",
       "      <td>522257</td>\n",
       "      <td>NC</td>\n",
       "    </tr>\n",
       "    <tr>\n",
       "      <th>2021-11-07</th>\n",
       "      <td>Canarias</td>\n",
       "      <td>3567300</td>\n",
       "      <td>3187906</td>\n",
       "      <td>0.893647</td>\n",
       "      <td>1642890</td>\n",
       "      <td>CN</td>\n",
       "    </tr>\n",
       "  </tbody>\n",
       "</table>\n",
       "<p>5091 rows × 6 columns</p>\n",
       "</div>"
      ],
      "text/plain": [
       "                   community  Total doses delivered  Doses administered  \\\n",
       "2021-02-01         Andalucía                 330980              313286   \n",
       "2021-02-01       Extremadura                  51975               49703   \n",
       "2021-02-01     C. Valenciana                 145830              147945   \n",
       "2021-02-01         Asturias                   59435               58177   \n",
       "2021-02-01  Castilla y Leon                  123895              126362   \n",
       "...                      ...                    ...                 ...   \n",
       "2021-11-07        País Vasco                3719130             3455869   \n",
       "2021-11-07     C. Valenciana                8088540             7831632   \n",
       "2021-11-07       Extremadura                1833705             1784224   \n",
       "2021-11-07           Navarra                1046175             1017222   \n",
       "2021-11-07          Canarias                3567300             3187906   \n",
       "\n",
       "            % over delivered  No. People vaccinated ccaa_iso  \n",
       "2021-02-01          0.946541                  90764       AN  \n",
       "2021-02-01          0.956287                  10776       EX  \n",
       "2021-02-01          1.014503                  44979       VC  \n",
       "2021-02-01          0.978834                  19503       AS  \n",
       "2021-02-01          1.019912                  35051       CL  \n",
       "...                      ...                    ...      ...  \n",
       "2021-11-07          0.929214                1784368       PV  \n",
       "2021-11-07          0.968238                4015726       VC  \n",
       "2021-11-07          0.973016                 884894       EX  \n",
       "2021-11-07          0.972325                 522257       NC  \n",
       "2021-11-07          0.893647                1642890       CN  \n",
       "\n",
       "[5091 rows x 6 columns]"
      ]
     },
     "execution_count": 13,
     "metadata": {},
     "output_type": "execute_result"
    }
   ],
   "source": [
    "final"
   ]
  },
  {
   "cell_type": "code",
   "execution_count": 14,
   "id": "126f91db",
   "metadata": {
    "execution": {
     "iopub.execute_input": "2021-11-09T17:29:02.657977Z",
     "iopub.status.busy": "2021-11-09T17:29:02.656954Z",
     "iopub.status.idle": "2021-11-09T17:29:02.663954Z",
     "shell.execute_reply": "2021-11-09T17:29:02.664780Z"
    },
    "jupyter": {
     "source_hidden": true
    },
    "papermill": {
     "duration": 0.046995,
     "end_time": "2021-11-09T17:29:02.665002",
     "exception": false,
     "start_time": "2021-11-09T17:29:02.618007",
     "status": "completed"
    },
    "tags": []
   },
   "outputs": [
    {
     "name": "stdout",
     "output_type": "stream",
     "text": [
      "Error !\n"
     ]
    }
   ],
   "source": [
    "#getting data\n",
    "try :\n",
    "    final.to_sql(con=engine(), name='vaccins', if_exists='replace')\n",
    "except : \n",
    "    print(\"Error !\")\n"
   ]
  }
 ],
 "metadata": {
  "kernelspec": {
   "display_name": "Python 3",
   "language": "python",
   "name": "python3"
  },
  "language_info": {
   "codemirror_mode": {
    "name": "ipython",
    "version": 3
   },
   "file_extension": ".py",
   "mimetype": "text/x-python",
   "name": "python",
   "nbconvert_exporter": "python",
   "pygments_lexer": "ipython3",
   "version": "3.7.5"
  },
  "papermill": {
   "default_parameters": {},
   "duration": 25.289256,
   "end_time": "2021-11-09T17:29:03.113416",
   "environment_variables": {},
   "exception": null,
   "input_path": "/home/kali/COVID-19-ES/airflow/process/update.ipynb",
   "output_path": "/home/kali/COVID-19-ES/airflow/process/outs/out-update2021-11-09T17:27:40.842867+00:00.ipynb",
   "parameters": {
    "msgs": "Ran from Airflow at 2021-11-09T17:27:40.842867+00:00!"
   },
   "start_time": "2021-11-09T17:28:37.824160",
   "version": "2.3.3"
  }
 },
 "nbformat": 4,
 "nbformat_minor": 5
}